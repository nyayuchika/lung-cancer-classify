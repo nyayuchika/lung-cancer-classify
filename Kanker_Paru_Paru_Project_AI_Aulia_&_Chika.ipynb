{
  "nbformat": 4,
  "nbformat_minor": 0,
  "metadata": {
    "colab": {
      "provenance": [],
      "collapsed_sections": [
        "RtBVqA5zx1-d",
        "gMUvvs_7drpM",
        "EyCtlPIC1iVV",
        "uf3Ml42b0UEB"
      ]
    },
    "kernelspec": {
      "name": "python3",
      "display_name": "Python 3"
    },
    "language_info": {
      "name": "python"
    }
  },
  "cells": [
    {
      "cell_type": "markdown",
      "source": [
        "#Import Library"
      ],
      "metadata": {
        "id": "4fZmZ_sUQ0wt"
      }
    },
    {
      "cell_type": "code",
      "execution_count": null,
      "metadata": {
        "id": "Th2_Wd_GbG-w"
      },
      "outputs": [],
      "source": [
        "#Import Library\n",
        "import numpy as np\n",
        "import pandas as pd\n",
        "import matplotlib.pyplot as plt\n",
        "import seaborn as sn\n",
        "from sklearn.metrics import classification_report, confusion_matrix, accuracy_score\n",
        "from sklearn.model_selection import train_test_split #percentage split\n",
        "from sklearn.model_selection import cross_val_score, cross_val_predict #k-fold cross validation"
      ]
    },
    {
      "cell_type": "markdown",
      "source": [
        "#Import Dataset & Exploration"
      ],
      "metadata": {
        "id": "UPY_wXQLQ5wM"
      }
    },
    {
      "cell_type": "code",
      "source": [
        "#Upload File CSV\n",
        "\n",
        "from google.colab import files\n",
        "files.upload()"
      ],
      "metadata": {
        "colab": {
          "resources": {
            "http://localhost:8080/nbextensions/google.colab/files.js": {
              "data": "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",
              "ok": true,
              "headers": [
                [
                  "content-type",
                  "application/javascript"
                ]
              ],
              "status": 200,
              "status_text": "OK"
            }
          },
          "base_uri": "https://localhost:8080/",
          "height": 112
        },
        "id": "BWyDySpdExVD",
        "outputId": "9b94fd87-c83b-4cdb-ed7a-20e6e2283852"
      },
      "execution_count": null,
      "outputs": [
        {
          "output_type": "display_data",
          "data": {
            "text/plain": [
              "<IPython.core.display.HTML object>"
            ],
            "text/html": [
              "\n",
              "     <input type=\"file\" id=\"files-3b5a1b21-914d-42f8-953c-fa5bd0ce474d\" name=\"files[]\" multiple disabled\n",
              "        style=\"border:none\" />\n",
              "     <output id=\"result-3b5a1b21-914d-42f8-953c-fa5bd0ce474d\">\n",
              "      Upload widget is only available when the cell has been executed in the\n",
              "      current browser session. Please rerun this cell to enable.\n",
              "      </output>\n",
              "      <script src=\"/nbextensions/google.colab/files.js\"></script> "
            ]
          },
          "metadata": {}
        },
        {
          "output_type": "stream",
          "name": "stdout",
          "text": [
            "Saving survey lung cancer4.csv to survey lung cancer4.csv\n"
          ]
        },
        {
          "output_type": "execute_result",
          "data": {
            "text/plain": [
              "{'survey lung cancer4.csv': b'AGE,SMOKING,YELLOW_FINGERS,ANXIETY,PEER_PRESSURE,CHRONIC DISEASE,FATIGUE ,ALLERGY ,WHEEZING,ALCOHOL CONSUMING,COUGHING,SHORTNESS OF BREATH,SWALLOWING DIFFICULTY,CHEST PAIN,LUNG_CANCER\\r\\n69,1,2,2,1,1,2,1,2,2,2,2,2,2,YES\\r\\n74,2,1,1,1,2,2,2,1,1,1,2,2,2,YES\\r\\n59,1,1,1,2,1,2,1,2,1,2,2,1,2,NO\\r\\n63,2,2,2,1,1,1,1,1,2,1,1,2,2,NO\\r\\n63,1,2,1,1,1,1,1,2,1,2,2,1,1,NO\\r\\n75,1,2,1,1,2,2,2,2,1,2,2,1,1,YES\\r\\n52,2,1,1,1,1,2,1,2,2,2,2,1,2,YES\\r\\n51,2,2,2,2,1,2,2,1,1,1,2,2,1,YES\\r\\n68,2,1,2,1,1,2,1,1,1,1,1,1,1,NO\\r\\n53,2,2,2,2,2,1,2,1,2,1,1,2,2,YES\\r\\n61,2,2,2,2,2,2,1,2,1,2,2,2,1,YES\\r\\n72,1,1,1,1,2,2,2,2,2,2,2,1,2,YES\\r\\n60,2,1,1,1,1,2,1,1,1,1,2,1,1,NO\\r\\n58,2,1,1,1,1,2,2,2,2,2,2,1,2,YES\\r\\n69,2,1,1,1,1,1,2,2,2,2,1,1,2,NO\\r\\n48,1,2,2,2,2,2,2,2,1,2,2,2,1,YES\\r\\n75,2,1,1,1,2,1,2,2,2,2,2,1,2,YES\\r\\n57,2,2,2,2,2,1,1,1,2,1,1,2,2,YES\\r\\n68,2,2,2,2,2,2,1,1,1,2,2,1,1,YES\\r\\n61,1,1,1,1,2,2,1,1,1,1,2,1,1,NO\\r\\n44,2,2,2,2,2,2,1,1,1,1,2,2,1,YES\\r\\n64,1,2,2,2,1,1,2,2,1,2,1,2,1,YES\\r\\n21,2,1,1,1,2,2,2,1,1,1,2,1,1,NO\\r\\n60,2,1,1,1,1,2,2,2,2,2,2,1,2,YES\\r\\n72,2,2,2,2,2,1,2,2,2,2,1,2,2,YES\\r\\n65,1,2,2,1,1,2,1,2,2,2,2,2,2,YES\\r\\n61,2,2,2,1,1,2,2,1,2,1,2,2,2,YES\\r\\n69,1,1,1,2,1,2,1,2,1,2,2,1,2,NO\\r\\n53,2,2,2,1,2,1,1,2,2,1,2,2,2,YES\\r\\n55,1,2,1,1,1,2,1,2,2,2,2,1,1,NO\\r\\n57,2,2,1,1,1,1,1,1,1,1,2,1,1,NO\\r\\n62,2,1,2,1,1,1,2,2,2,1,2,2,2,YES\\r\\n56,2,2,2,1,1,1,1,1,1,1,2,2,1,NO\\r\\n67,2,2,2,1,2,1,1,1,1,1,2,2,2,YES\\r\\n59,1,2,2,1,1,1,1,1,1,1,1,2,2,NO\\r\\n59,2,2,2,1,2,1,1,1,1,1,2,2,1,YES\\r\\n60,1,2,1,1,2,1,1,2,1,2,2,1,2,YES\\r\\n56,1,1,1,1,2,1,1,2,1,1,2,2,1,NO\\r\\n56,2,1,1,1,2,1,1,2,1,1,2,1,2,YES\\r\\n60,2,1,1,1,2,1,2,2,2,2,1,1,2,YES\\r\\n68,2,1,2,1,1,2,2,1,2,2,2,1,2,YES\\r\\n63,1,1,1,2,1,2,2,2,2,1,1,2,1,YES\\r\\n77,1,2,2,2,2,2,1,2,2,1,1,1,1,YES\\r\\n52,2,1,1,2,1,2,2,2,2,1,2,1,2,YES\\r\\n70,2,2,1,2,2,1,1,1,2,2,1,2,1,YES\\r\\n72,2,2,2,2,2,2,1,2,2,2,2,2,2,YES\\r\\n62,2,2,1,1,2,1,2,1,1,2,2,2,2,YES\\r\\n64,2,2,1,2,1,2,1,2,2,2,1,2,2,YES\\r\\n70,1,1,2,2,2,2,2,2,2,1,2,2,2,YES\\r\\n60,1,1,2,2,2,1,1,1,2,1,1,1,1,NO\\r\\n56,1,1,1,2,2,2,2,2,2,1,1,1,2,YES\\r\\n63,2,2,2,1,2,2,2,2,1,1,2,1,1,YES\\r\\n54,2,1,1,2,1,2,2,2,2,2,1,2,2,YES\\r\\n49,2,1,1,2,2,2,2,2,2,2,2,2,2,YES\\r\\n57,1,2,1,2,2,2,2,1,2,2,1,1,1,YES\\r\\n52,1,2,2,1,2,1,2,2,2,2,1,2,1,YES\\r\\n63,1,2,1,2,1,2,1,1,1,2,2,1,2,YES\\r\\n73,1,1,1,1,2,1,2,1,2,2,2,2,2,YES\\r\\n47,1,2,1,2,2,2,1,2,1,1,2,2,2,YES\\r\\n69,2,2,2,2,1,2,2,1,2,2,2,1,2,YES\\r\\n70,1,2,1,2,2,2,2,2,2,2,1,2,2,YES\\r\\n60,1,2,2,1,1,1,1,1,1,2,1,1,1,NO\\r\\n70,1,2,1,2,1,2,2,2,2,2,1,1,1,YES\\r\\n68,1,1,2,1,2,1,2,2,2,1,1,2,1,YES\\r\\n74,1,2,1,2,1,2,2,2,2,2,2,1,2,YES\\r\\n71,2,2,2,2,2,2,1,2,1,2,1,2,2,YES\\r\\n56,1,2,1,1,2,2,2,2,1,2,2,1,2,YES\\r\\n66,2,1,1,1,1,2,1,2,2,2,2,1,1,YES\\r\\n76,2,2,2,2,1,2,2,1,1,1,2,2,2,YES\\r\\n78,2,2,2,2,1,2,1,2,1,2,2,2,1,YES\\r\\n68,2,2,2,2,1,1,2,1,2,1,1,2,2,YES\\r\\n66,2,2,2,2,1,2,1,2,1,2,2,2,1,YES\\r\\n67,1,1,1,1,2,2,2,2,2,2,2,1,2,YES\\r\\n60,2,1,1,1,2,2,1,1,1,1,2,1,1,YES\\r\\n61,2,1,1,1,1,2,2,2,2,2,2,1,2,YES\\r\\n58,2,1,1,1,1,1,2,2,2,2,1,1,1,YES\\r\\n76,1,2,2,2,2,2,2,2,1,2,2,2,2,YES\\r\\n56,2,1,1,1,1,2,2,2,2,2,2,1,2,YES\\r\\n67,2,2,2,2,2,1,1,1,2,1,1,2,2,YES\\r\\n73,2,2,2,2,1,2,1,1,1,2,2,2,2,YES\\r\\n58,1,1,1,1,1,2,1,1,1,1,2,1,1,NO\\r\\n54,2,2,2,2,2,2,1,1,1,1,2,2,1,YES\\r\\n62,2,2,2,2,2,1,2,2,2,1,1,2,2,YES\\r\\n81,1,1,1,2,2,1,2,1,2,2,2,1,1,YES\\r\\n56,1,1,1,1,2,2,2,1,2,2,2,1,2,YES\\r\\n60,1,2,2,1,1,1,1,2,2,2,2,2,1,YES\\r\\n66,1,2,2,1,2,1,2,1,2,2,2,1,2,YES\\r\\n62,1,2,2,1,1,2,1,2,1,1,1,2,2,YES\\r\\n62,2,2,2,1,2,1,2,1,2,1,1,1,1,YES\\r\\n55,2,1,1,2,2,2,2,2,2,1,1,2,2,YES\\r\\n62,1,1,1,2,1,1,1,2,2,1,1,2,2,YES\\r\\n71,1,1,1,1,2,2,2,1,1,2,2,1,2,YES\\r\\n52,2,1,1,1,2,2,2,2,2,1,1,2,2,YES\\r\\n59,1,2,2,2,2,1,2,2,2,2,2,2,1,YES\\r\\n48,2,1,1,1,2,2,2,1,2,2,2,2,2,YES\\r\\n60,1,2,2,2,1,2,1,1,1,1,1,2,2,YES\\r\\n61,2,2,2,1,1,1,2,1,2,2,2,1,2,YES\\r\\n59,2,1,1,2,1,1,1,1,2,2,2,1,1,YES\\r\\n64,1,2,2,2,1,2,2,1,1,2,1,2,1,YES\\r\\n56,2,1,1,1,1,2,2,2,2,2,2,1,2,YES\\r\\n58,2,1,1,1,1,1,2,2,2,2,1,1,1,YES\\r\\n81,1,2,2,2,2,2,2,2,1,2,2,2,2,YES\\r\\n64,2,1,1,1,1,2,2,2,2,2,2,1,2,YES\\r\\n62,2,2,2,2,2,1,1,1,2,1,1,2,2,YES\\r\\n72,2,2,2,2,1,2,1,1,1,2,2,2,2,YES\\r\\n60,1,1,1,1,2,2,1,1,1,1,2,1,1,YES\\r\\n61,2,2,2,2,2,2,1,1,1,1,2,2,1,YES\\r\\n60,2,2,2,2,2,1,2,2,2,1,1,2,2,YES\\r\\n49,1,1,1,2,2,1,2,1,2,2,2,1,1,YES\\r\\n53,1,1,1,1,2,2,2,1,2,1,2,1,2,YES\\r\\n58,1,2,2,1,1,2,1,2,2,2,2,2,2,YES\\r\\n61,2,2,2,1,1,2,2,1,2,1,2,2,2,YES\\r\\n68,1,1,1,2,1,2,1,2,1,2,2,1,2,YES\\r\\n60,2,2,2,1,1,1,1,1,2,1,1,2,2,YES\\r\\n72,1,2,1,1,1,2,1,2,2,2,2,1,1,YES\\r\\n72,1,2,1,1,2,2,2,2,1,2,2,1,1,YES\\r\\n57,2,1,1,1,1,2,1,2,2,2,2,1,2,YES\\r\\n51,2,2,2,2,1,2,2,1,1,1,2,2,1,YES\\r\\n54,2,2,2,2,1,2,1,2,1,2,2,2,1,YES\\r\\n56,1,2,2,2,1,1,2,1,2,1,1,2,2,YES\\r\\n77,2,2,2,2,1,2,1,2,1,2,2,2,1,YES\\r\\n64,1,1,1,1,2,2,2,2,2,2,2,1,2,YES\\r\\n57,2,1,2,1,2,2,1,1,1,1,2,1,1,YES\\r\\n66,2,2,2,1,2,2,2,2,2,2,2,1,1,YES\\r\\n70,2,1,1,1,1,1,2,1,2,2,1,1,2,YES\\r\\n53,1,2,2,2,2,2,2,1,1,2,2,1,1,YES\\r\\n51,2,1,1,1,1,2,1,2,2,2,2,1,2,YES\\r\\n58,2,2,2,2,2,1,1,1,2,1,1,2,2,YES\\r\\n58,2,2,2,2,1,2,1,1,1,2,2,2,1,YES\\r\\n63,1,1,1,1,2,2,1,1,1,1,2,1,1,NO\\r\\n51,2,2,2,2,1,2,1,1,1,1,2,2,1,YES\\r\\n61,1,2,2,2,1,1,2,2,1,2,1,2,1,YES\\r\\n61,2,1,1,1,2,2,2,1,1,1,2,1,1,YES\\r\\n76,2,1,1,1,1,2,2,2,2,2,2,1,2,YES\\r\\n71,2,2,2,1,2,1,2,2,2,2,1,2,2,YES\\r\\n69,1,1,2,1,1,2,1,2,2,2,2,2,1,YES\\r\\n56,2,2,2,1,1,2,2,1,1,1,2,1,2,YES\\r\\n67,1,1,1,2,1,2,1,2,1,2,2,1,2,YES\\r\\n54,2,2,2,1,2,1,1,2,2,1,2,2,2,YES\\r\\n63,1,2,1,1,1,2,1,2,2,2,2,1,1,YES\\r\\n47,2,2,1,2,2,2,2,2,1,2,2,1,1,YES\\r\\n62,2,1,2,1,1,2,1,2,2,2,2,1,2,YES\\r\\n65,2,2,2,2,1,2,2,1,1,1,2,2,1,YES\\r\\n63,2,2,2,2,2,2,2,2,1,2,2,2,2,YES\\r\\n64,1,2,2,2,1,1,2,1,2,1,1,2,2,YES\\r\\n65,2,2,2,2,1,2,1,2,1,2,2,2,1,YES\\r\\n51,1,2,1,1,2,2,2,2,2,2,2,1,2,YES\\r\\n56,1,1,1,2,2,2,1,1,2,2,2,2,1,YES\\r\\n70,2,1,1,1,1,2,2,2,2,2,2,1,2,YES\\r\\n58,2,1,1,1,1,1,2,2,2,2,1,1,2,YES\\r\\n67,2,1,2,1,1,2,2,1,2,2,2,1,2,YES\\r\\n62,1,1,1,2,1,2,2,2,2,1,1,2,1,YES\\r\\n74,1,2,2,2,2,2,1,2,2,1,1,1,1,YES\\r\\n69,2,1,1,2,1,1,1,1,1,1,1,1,2,NO\\r\\n64,2,2,1,2,2,1,1,1,1,1,1,1,1,NO\\r\\n75,2,2,2,2,2,1,1,1,1,1,1,1,2,YES\\r\\n47,2,2,1,1,2,1,1,1,1,1,1,1,2,NO\\r\\n57,2,2,1,2,1,1,1,1,1,1,1,1,2,NO\\r\\n56,1,1,2,2,2,2,2,2,2,1,2,2,2,YES\\r\\n68,1,1,2,2,2,1,1,1,2,1,1,1,1,NO\\r\\n55,1,1,1,2,2,2,2,2,2,1,1,1,2,YES\\r\\n62,2,2,2,1,2,2,2,2,1,1,2,1,1,YES\\r\\n73,2,1,1,2,1,2,2,2,2,2,1,2,2,YES\\r\\n68,2,1,1,2,2,2,2,2,2,2,2,2,2,YES\\r\\n75,1,2,1,2,2,2,2,1,2,2,1,1,1,YES\\r\\n63,1,2,2,1,2,1,2,2,2,2,1,2,1,YES\\r\\n61,1,2,1,2,1,2,1,1,1,2,2,1,2,YES\\r\\n62,1,1,1,1,2,1,2,1,2,2,2,2,2,YES\\r\\n44,1,2,1,2,2,2,1,2,1,1,2,2,2,YES\\r\\n56,2,2,2,2,1,2,2,1,2,2,2,1,2,YES\\r\\n54,1,2,1,2,2,2,2,2,2,2,1,2,2,YES\\r\\n57,1,2,2,1,1,1,1,1,1,2,1,1,1,NO\\r\\n56,1,2,1,2,1,2,2,2,2,2,1,1,1,YES\\r\\n69,1,1,2,1,2,1,2,2,2,1,1,2,1,YES\\r\\n72,1,2,1,2,1,2,2,2,2,2,2,1,2,YES\\r\\n59,2,2,2,2,2,2,1,2,1,2,1,2,2,YES\\r\\n70,1,2,1,1,2,2,2,2,1,2,2,1,2,YES\\r\\n64,2,1,1,1,1,2,1,2,2,2,2,1,1,YES\\r\\n61,2,2,2,2,1,2,2,1,1,1,2,2,2,YES\\r\\n72,2,2,2,2,1,2,1,2,1,2,2,2,1,YES\\r\\n63,2,2,2,2,1,1,2,1,2,1,1,2,2,YES\\r\\n74,2,2,2,2,1,2,1,2,1,2,2,2,1,YES\\r\\n71,1,1,1,1,2,2,2,2,2,2,2,1,2,YES\\r\\n71,2,1,1,1,2,2,1,1,1,1,2,1,1,NO\\r\\n72,2,1,1,1,1,2,2,2,2,2,2,1,2,YES\\r\\n77,2,1,1,1,1,1,2,2,2,2,1,1,1,YES\\r\\n72,1,2,2,2,2,2,1,1,1,1,1,1,1,YES\\r\\n55,2,1,1,1,1,2,1,1,1,1,1,1,1,YES\\r\\n65,2,2,2,2,2,1,1,1,1,1,1,1,1,YES\\r\\n67,2,2,2,2,1,2,1,1,1,1,1,1,1,YES\\r\\n69,1,1,1,1,2,2,1,1,1,1,1,1,1,YES\\r\\n55,2,2,2,2,2,2,1,1,1,1,1,1,1,YES\\r\\n51,2,2,2,2,2,1,1,1,1,1,1,1,1,YES\\r\\n64,1,1,1,2,2,1,1,1,1,1,1,1,1,YES\\r\\n63,1,1,1,1,2,2,2,1,2,2,2,1,2,YES\\r\\n69,1,2,2,1,1,1,1,2,2,2,2,2,1,YES\\r\\n64,1,2,2,1,2,1,2,1,2,2,2,1,2,YES\\r\\n59,1,2,2,1,1,2,1,2,1,1,1,2,2,YES\\r\\n73,2,2,2,1,2,1,2,1,2,1,1,1,1,YES\\r\\n55,2,1,1,2,2,2,2,2,2,1,1,2,2,YES\\r\\n63,1,1,1,2,1,1,1,2,2,1,1,2,2,YES\\r\\n60,1,1,1,1,2,2,2,1,1,2,2,1,2,YES\\r\\n74,2,1,1,1,2,2,2,2,2,1,1,2,2,YES\\r\\n65,1,2,2,2,2,1,2,2,2,2,2,2,1,YES\\r\\n79,2,1,1,1,2,2,2,1,2,2,2,2,2,YES\\r\\n62,1,2,2,2,1,2,1,1,1,1,1,2,2,YES\\r\\n71,2,2,2,1,1,1,2,1,2,2,2,1,2,YES\\r\\n63,2,1,1,2,1,1,1,1,1,2,2,1,1,NO\\r\\n67,1,2,2,2,1,2,2,1,1,2,1,2,1,YES\\r\\n55,2,1,1,1,1,2,2,2,2,2,2,1,2,YES\\r\\n54,2,1,1,1,1,1,2,2,2,2,1,1,1,YES\\r\\n77,1,2,2,2,2,2,2,2,1,2,2,2,2,YES\\r\\n58,2,1,1,1,1,2,2,2,2,2,2,1,2,YES\\r\\n64,2,2,2,2,2,1,1,1,2,1,1,2,2,YES\\r\\n61,2,2,2,2,1,2,1,1,1,2,2,2,2,YES\\r\\n62,1,1,1,1,2,2,1,1,1,1,2,1,1,NO\\r\\n67,2,2,2,2,2,2,1,1,1,1,2,2,1,YES\\r\\n56,2,2,2,2,2,1,2,2,2,1,1,2,2,YES\\r\\n70,1,1,1,2,2,1,2,1,2,2,2,1,1,YES\\r\\n70,1,1,1,1,2,2,2,1,2,2,2,1,2,YES\\r\\n57,1,1,2,2,2,2,2,2,2,1,2,2,2,YES\\r\\n61,1,1,2,2,2,1,1,1,2,1,1,1,1,NO\\r\\n77,1,1,1,2,2,2,2,2,2,1,1,1,2,YES\\r\\n63,2,2,2,1,2,2,2,2,1,1,2,1,1,YES\\r\\n62,2,1,1,2,1,2,2,2,2,2,1,2,2,YES\\r\\n59,2,1,1,2,2,2,2,2,2,2,2,2,2,YES\\r\\n70,1,2,1,2,2,2,2,1,2,2,1,1,1,YES\\r\\n71,1,2,2,1,2,1,2,2,2,2,1,2,1,YES\\r\\n56,1,2,1,2,1,2,1,1,1,2,2,1,2,YES\\r\\n57,1,1,1,1,2,1,2,1,2,2,2,2,2,YES\\r\\n78,1,2,1,2,2,2,1,2,1,1,2,2,2,YES\\r\\n64,2,2,2,2,1,2,2,1,2,2,2,1,2,YES\\r\\n62,1,2,1,2,2,2,2,2,2,2,1,2,2,YES\\r\\n49,1,2,2,1,1,1,1,1,1,2,1,1,1,YES\\r\\n77,1,2,1,2,1,2,2,2,2,2,1,1,1,YES\\r\\n64,1,1,2,1,2,1,2,2,2,1,1,2,1,YES\\r\\n63,1,2,1,2,1,2,2,2,2,2,2,1,2,YES\\r\\n54,2,2,2,2,2,2,1,2,1,2,1,2,2,YES\\r\\n38,1,2,1,1,2,2,2,2,1,2,2,1,2,YES\\r\\n75,1,2,2,2,1,1,2,2,1,2,1,2,1,YES\\r\\n70,2,1,1,2,2,1,2,1,1,1,2,1,1,YES\\r\\n59,2,1,1,1,1,2,2,2,2,2,2,1,2,YES\\r\\n77,2,2,2,1,2,1,2,2,1,1,1,2,2,YES\\r\\n61,1,1,2,1,2,2,1,2,2,2,2,2,1,YES\\r\\n64,2,2,2,1,1,2,2,1,1,1,2,1,2,YES\\r\\n59,1,1,1,2,1,2,1,2,1,1,2,1,2,NO\\r\\n71,2,2,2,1,2,1,1,2,2,1,2,2,2,YES\\r\\n67,1,2,1,1,1,2,1,2,2,2,2,1,1,YES\\r\\n64,2,2,1,2,2,2,2,2,1,2,2,1,1,YES\\r\\n68,2,1,2,1,1,2,1,1,1,1,1,1,1,NO\\r\\n69,2,2,2,2,1,2,2,1,1,1,2,2,1,YES\\r\\n64,2,2,2,2,2,2,2,2,1,2,2,2,2,YES\\r\\n59,1,2,2,2,2,1,2,1,2,1,1,2,2,YES\\r\\n67,2,2,2,2,1,2,1,2,1,2,2,2,1,YES\\r\\n74,1,2,1,1,2,2,2,2,2,2,2,1,2,YES\\r\\n77,1,1,1,2,2,2,1,1,2,2,2,2,1,YES\\r\\n60,2,1,1,1,1,2,2,2,2,2,2,1,2,YES\\r\\n64,2,1,1,1,1,1,2,2,2,2,1,1,2,YES\\r\\n70,2,1,2,1,1,2,2,1,2,2,2,1,2,YES\\r\\n58,1,1,1,2,1,2,2,2,2,1,1,2,1,YES\\r\\n59,1,2,2,2,2,2,1,2,2,1,1,1,1,YES\\r\\n39,2,1,1,2,1,2,2,2,2,1,2,1,2,YES\\r\\n67,1,2,1,1,1,1,1,2,1,2,2,1,1,NO\\r\\n71,1,2,1,1,2,2,2,2,1,2,2,1,1,YES\\r\\n70,2,1,1,1,1,2,1,2,2,2,2,1,2,YES\\r\\n60,2,2,2,2,1,2,2,1,1,1,2,2,1,YES\\r\\n55,2,1,2,1,1,2,1,1,1,1,1,1,1,NO\\r\\n60,2,2,2,2,2,1,2,1,2,1,1,2,2,YES\\r\\n55,2,2,2,2,2,2,1,2,1,2,2,2,1,YES\\r\\n55,1,1,1,1,2,2,2,2,2,2,2,1,2,YES\\r\\n70,2,1,1,1,1,2,1,1,1,1,2,1,1,NO\\r\\n63,2,1,1,1,1,2,2,2,2,2,2,1,2,YES\\r\\n64,2,1,1,1,1,1,2,2,2,2,1,1,2,NO\\r\\n59,1,2,2,2,2,2,2,2,1,2,2,2,1,YES\\r\\n56,2,1,1,1,2,1,2,2,2,2,2,1,2,YES\\r\\n64,2,2,2,2,2,1,1,1,2,1,1,2,2,YES\\r\\n62,2,2,2,2,2,2,1,1,1,2,2,1,1,YES\\r\\n87,1,1,1,1,2,2,1,1,1,1,2,1,1,NO\\r\\n77,2,2,2,2,2,2,1,1,1,1,2,2,1,YES\\r\\n59,1,2,2,2,1,1,2,2,1,2,1,2,1,YES\\r\\n59,2,1,1,1,2,2,2,1,1,1,2,1,1,NO\\r\\n55,2,1,1,1,1,2,2,1,1,1,2,1,2,NO\\r\\n46,1,2,2,1,1,1,1,1,1,1,1,2,2,NO\\r\\n60,1,2,2,1,1,2,1,2,2,2,2,2,2,YES\\r\\n58,2,2,2,2,2,1,1,1,2,1,1,2,2,YES\\r\\n58,2,2,2,2,1,2,1,1,1,2,2,2,1,YES\\r\\n63,1,1,1,1,2,2,1,1,1,1,2,1,1,NO\\r\\n51,2,2,2,2,1,2,1,1,1,1,2,2,1,YES\\r\\n61,1,2,2,2,1,1,2,2,1,2,1,2,1,YES\\r\\n61,2,1,1,1,2,2,2,1,1,1,2,1,1,YES\\r\\n76,2,1,1,1,1,2,2,2,2,2,2,1,2,YES\\r\\n71,2,2,2,1,2,1,2,2,2,2,1,2,2,YES\\r\\n69,1,1,2,1,1,2,1,2,2,2,2,2,1,YES\\r\\n56,2,2,2,1,1,2,2,1,1,1,2,1,2,YES\\r\\n67,1,1,1,2,1,2,1,2,1,2,2,1,2,YES\\r\\n54,2,2,2,1,2,1,1,2,2,1,2,2,2,YES\\r\\n63,1,2,1,1,1,2,1,2,2,2,2,1,1,YES\\r\\n47,2,2,1,2,2,2,2,2,1,2,2,1,1,YES\\r\\n62,2,1,2,1,1,2,1,2,2,2,2,1,2,YES\\r\\n65,2,2,2,2,1,2,2,1,1,1,2,2,1,YES\\r\\n63,2,2,2,2,2,2,2,2,1,2,2,2,2,YES\\r\\n64,1,2,2,2,1,1,2,1,2,1,1,2,2,YES\\r\\n65,2,2,2,2,1,2,1,2,1,2,2,2,1,YES\\r\\n51,1,2,1,1,2,2,2,2,2,2,2,1,2,YES\\r\\n56,1,1,1,2,2,2,1,1,2,2,2,2,1,YES\\r\\n70,2,1,1,1,1,2,2,2,2,2,2,1,2,YES\\r\\n58,2,1,1,1,1,1,2,2,2,2,1,1,2,YES\\r\\n67,2,1,2,1,1,2,2,1,2,2,2,1,2,YES\\r\\n62,1,1,1,2,1,2,2,2,2,1,1,2,1,YES\\r\\n'}"
            ]
          },
          "metadata": {},
          "execution_count": 2
        }
      ]
    },
    {
      "cell_type": "code",
      "source": [
        "#Membaca dataset csv\n",
        "df = pd.read_csv('survey lung cancer4.csv')"
      ],
      "metadata": {
        "id": "RJ40pBcaEt2T"
      },
      "execution_count": null,
      "outputs": []
    },
    {
      "cell_type": "code",
      "source": [
        "#Cetak isi dataset csv\n",
        "df"
      ],
      "metadata": {
        "colab": {
          "base_uri": "https://localhost:8080/",
          "height": 505
        },
        "id": "HYSeuQIXIZPI",
        "outputId": "47ae33ba-6e0b-4cdc-b7af-7bde995a24f7"
      },
      "execution_count": null,
      "outputs": [
        {
          "output_type": "execute_result",
          "data": {
            "text/plain": [
              "     AGE  SMOKING  YELLOW_FINGERS  ANXIETY  PEER_PRESSURE  CHRONIC DISEASE  \\\n",
              "0     69        1               2        2              1                1   \n",
              "1     74        2               1        1              1                2   \n",
              "2     59        1               1        1              2                1   \n",
              "3     63        2               2        2              1                1   \n",
              "4     63        1               2        1              1                1   \n",
              "..   ...      ...             ...      ...            ...              ...   \n",
              "304   56        1               1        1              2                2   \n",
              "305   70        2               1        1              1                1   \n",
              "306   58        2               1        1              1                1   \n",
              "307   67        2               1        2              1                1   \n",
              "308   62        1               1        1              2                1   \n",
              "\n",
              "     FATIGUE   ALLERGY   WHEEZING  ALCOHOL CONSUMING  COUGHING  \\\n",
              "0           2         1         2                  2         2   \n",
              "1           2         2         1                  1         1   \n",
              "2           2         1         2                  1         2   \n",
              "3           1         1         1                  2         1   \n",
              "4           1         1         2                  1         2   \n",
              "..        ...       ...       ...                ...       ...   \n",
              "304         2         1         1                  2         2   \n",
              "305         2         2         2                  2         2   \n",
              "306         1         2         2                  2         2   \n",
              "307         2         2         1                  2         2   \n",
              "308         2         2         2                  2         1   \n",
              "\n",
              "     SHORTNESS OF BREATH  SWALLOWING DIFFICULTY  CHEST PAIN LUNG_CANCER  \n",
              "0                      2                      2           2         YES  \n",
              "1                      2                      2           2         YES  \n",
              "2                      2                      1           2          NO  \n",
              "3                      1                      2           2          NO  \n",
              "4                      2                      1           1          NO  \n",
              "..                   ...                    ...         ...         ...  \n",
              "304                    2                      2           1         YES  \n",
              "305                    2                      1           2         YES  \n",
              "306                    1                      1           2         YES  \n",
              "307                    2                      1           2         YES  \n",
              "308                    1                      2           1         YES  \n",
              "\n",
              "[309 rows x 15 columns]"
            ],
            "text/html": [
              "\n",
              "  <div id=\"df-9e26ecc6-9704-4dbd-984a-18d31ddd5a97\">\n",
              "    <div class=\"colab-df-container\">\n",
              "      <div>\n",
              "<style scoped>\n",
              "    .dataframe tbody tr th:only-of-type {\n",
              "        vertical-align: middle;\n",
              "    }\n",
              "\n",
              "    .dataframe tbody tr th {\n",
              "        vertical-align: top;\n",
              "    }\n",
              "\n",
              "    .dataframe thead th {\n",
              "        text-align: right;\n",
              "    }\n",
              "</style>\n",
              "<table border=\"1\" class=\"dataframe\">\n",
              "  <thead>\n",
              "    <tr style=\"text-align: right;\">\n",
              "      <th></th>\n",
              "      <th>AGE</th>\n",
              "      <th>SMOKING</th>\n",
              "      <th>YELLOW_FINGERS</th>\n",
              "      <th>ANXIETY</th>\n",
              "      <th>PEER_PRESSURE</th>\n",
              "      <th>CHRONIC DISEASE</th>\n",
              "      <th>FATIGUE</th>\n",
              "      <th>ALLERGY</th>\n",
              "      <th>WHEEZING</th>\n",
              "      <th>ALCOHOL CONSUMING</th>\n",
              "      <th>COUGHING</th>\n",
              "      <th>SHORTNESS OF BREATH</th>\n",
              "      <th>SWALLOWING DIFFICULTY</th>\n",
              "      <th>CHEST PAIN</th>\n",
              "      <th>LUNG_CANCER</th>\n",
              "    </tr>\n",
              "  </thead>\n",
              "  <tbody>\n",
              "    <tr>\n",
              "      <th>0</th>\n",
              "      <td>69</td>\n",
              "      <td>1</td>\n",
              "      <td>2</td>\n",
              "      <td>2</td>\n",
              "      <td>1</td>\n",
              "      <td>1</td>\n",
              "      <td>2</td>\n",
              "      <td>1</td>\n",
              "      <td>2</td>\n",
              "      <td>2</td>\n",
              "      <td>2</td>\n",
              "      <td>2</td>\n",
              "      <td>2</td>\n",
              "      <td>2</td>\n",
              "      <td>YES</td>\n",
              "    </tr>\n",
              "    <tr>\n",
              "      <th>1</th>\n",
              "      <td>74</td>\n",
              "      <td>2</td>\n",
              "      <td>1</td>\n",
              "      <td>1</td>\n",
              "      <td>1</td>\n",
              "      <td>2</td>\n",
              "      <td>2</td>\n",
              "      <td>2</td>\n",
              "      <td>1</td>\n",
              "      <td>1</td>\n",
              "      <td>1</td>\n",
              "      <td>2</td>\n",
              "      <td>2</td>\n",
              "      <td>2</td>\n",
              "      <td>YES</td>\n",
              "    </tr>\n",
              "    <tr>\n",
              "      <th>2</th>\n",
              "      <td>59</td>\n",
              "      <td>1</td>\n",
              "      <td>1</td>\n",
              "      <td>1</td>\n",
              "      <td>2</td>\n",
              "      <td>1</td>\n",
              "      <td>2</td>\n",
              "      <td>1</td>\n",
              "      <td>2</td>\n",
              "      <td>1</td>\n",
              "      <td>2</td>\n",
              "      <td>2</td>\n",
              "      <td>1</td>\n",
              "      <td>2</td>\n",
              "      <td>NO</td>\n",
              "    </tr>\n",
              "    <tr>\n",
              "      <th>3</th>\n",
              "      <td>63</td>\n",
              "      <td>2</td>\n",
              "      <td>2</td>\n",
              "      <td>2</td>\n",
              "      <td>1</td>\n",
              "      <td>1</td>\n",
              "      <td>1</td>\n",
              "      <td>1</td>\n",
              "      <td>1</td>\n",
              "      <td>2</td>\n",
              "      <td>1</td>\n",
              "      <td>1</td>\n",
              "      <td>2</td>\n",
              "      <td>2</td>\n",
              "      <td>NO</td>\n",
              "    </tr>\n",
              "    <tr>\n",
              "      <th>4</th>\n",
              "      <td>63</td>\n",
              "      <td>1</td>\n",
              "      <td>2</td>\n",
              "      <td>1</td>\n",
              "      <td>1</td>\n",
              "      <td>1</td>\n",
              "      <td>1</td>\n",
              "      <td>1</td>\n",
              "      <td>2</td>\n",
              "      <td>1</td>\n",
              "      <td>2</td>\n",
              "      <td>2</td>\n",
              "      <td>1</td>\n",
              "      <td>1</td>\n",
              "      <td>NO</td>\n",
              "    </tr>\n",
              "    <tr>\n",
              "      <th>...</th>\n",
              "      <td>...</td>\n",
              "      <td>...</td>\n",
              "      <td>...</td>\n",
              "      <td>...</td>\n",
              "      <td>...</td>\n",
              "      <td>...</td>\n",
              "      <td>...</td>\n",
              "      <td>...</td>\n",
              "      <td>...</td>\n",
              "      <td>...</td>\n",
              "      <td>...</td>\n",
              "      <td>...</td>\n",
              "      <td>...</td>\n",
              "      <td>...</td>\n",
              "      <td>...</td>\n",
              "    </tr>\n",
              "    <tr>\n",
              "      <th>304</th>\n",
              "      <td>56</td>\n",
              "      <td>1</td>\n",
              "      <td>1</td>\n",
              "      <td>1</td>\n",
              "      <td>2</td>\n",
              "      <td>2</td>\n",
              "      <td>2</td>\n",
              "      <td>1</td>\n",
              "      <td>1</td>\n",
              "      <td>2</td>\n",
              "      <td>2</td>\n",
              "      <td>2</td>\n",
              "      <td>2</td>\n",
              "      <td>1</td>\n",
              "      <td>YES</td>\n",
              "    </tr>\n",
              "    <tr>\n",
              "      <th>305</th>\n",
              "      <td>70</td>\n",
              "      <td>2</td>\n",
              "      <td>1</td>\n",
              "      <td>1</td>\n",
              "      <td>1</td>\n",
              "      <td>1</td>\n",
              "      <td>2</td>\n",
              "      <td>2</td>\n",
              "      <td>2</td>\n",
              "      <td>2</td>\n",
              "      <td>2</td>\n",
              "      <td>2</td>\n",
              "      <td>1</td>\n",
              "      <td>2</td>\n",
              "      <td>YES</td>\n",
              "    </tr>\n",
              "    <tr>\n",
              "      <th>306</th>\n",
              "      <td>58</td>\n",
              "      <td>2</td>\n",
              "      <td>1</td>\n",
              "      <td>1</td>\n",
              "      <td>1</td>\n",
              "      <td>1</td>\n",
              "      <td>1</td>\n",
              "      <td>2</td>\n",
              "      <td>2</td>\n",
              "      <td>2</td>\n",
              "      <td>2</td>\n",
              "      <td>1</td>\n",
              "      <td>1</td>\n",
              "      <td>2</td>\n",
              "      <td>YES</td>\n",
              "    </tr>\n",
              "    <tr>\n",
              "      <th>307</th>\n",
              "      <td>67</td>\n",
              "      <td>2</td>\n",
              "      <td>1</td>\n",
              "      <td>2</td>\n",
              "      <td>1</td>\n",
              "      <td>1</td>\n",
              "      <td>2</td>\n",
              "      <td>2</td>\n",
              "      <td>1</td>\n",
              "      <td>2</td>\n",
              "      <td>2</td>\n",
              "      <td>2</td>\n",
              "      <td>1</td>\n",
              "      <td>2</td>\n",
              "      <td>YES</td>\n",
              "    </tr>\n",
              "    <tr>\n",
              "      <th>308</th>\n",
              "      <td>62</td>\n",
              "      <td>1</td>\n",
              "      <td>1</td>\n",
              "      <td>1</td>\n",
              "      <td>2</td>\n",
              "      <td>1</td>\n",
              "      <td>2</td>\n",
              "      <td>2</td>\n",
              "      <td>2</td>\n",
              "      <td>2</td>\n",
              "      <td>1</td>\n",
              "      <td>1</td>\n",
              "      <td>2</td>\n",
              "      <td>1</td>\n",
              "      <td>YES</td>\n",
              "    </tr>\n",
              "  </tbody>\n",
              "</table>\n",
              "<p>309 rows × 15 columns</p>\n",
              "</div>\n",
              "      <button class=\"colab-df-convert\" onclick=\"convertToInteractive('df-9e26ecc6-9704-4dbd-984a-18d31ddd5a97')\"\n",
              "              title=\"Convert this dataframe to an interactive table.\"\n",
              "              style=\"display:none;\">\n",
              "        \n",
              "  <svg xmlns=\"http://www.w3.org/2000/svg\" height=\"24px\"viewBox=\"0 0 24 24\"\n",
              "       width=\"24px\">\n",
              "    <path d=\"M0 0h24v24H0V0z\" fill=\"none\"/>\n",
              "    <path d=\"M18.56 5.44l.94 2.06.94-2.06 2.06-.94-2.06-.94-.94-2.06-.94 2.06-2.06.94zm-11 1L8.5 8.5l.94-2.06 2.06-.94-2.06-.94L8.5 2.5l-.94 2.06-2.06.94zm10 10l.94 2.06.94-2.06 2.06-.94-2.06-.94-.94-2.06-.94 2.06-2.06.94z\"/><path d=\"M17.41 7.96l-1.37-1.37c-.4-.4-.92-.59-1.43-.59-.52 0-1.04.2-1.43.59L10.3 9.45l-7.72 7.72c-.78.78-.78 2.05 0 2.83L4 21.41c.39.39.9.59 1.41.59.51 0 1.02-.2 1.41-.59l7.78-7.78 2.81-2.81c.8-.78.8-2.07 0-2.86zM5.41 20L4 18.59l7.72-7.72 1.47 1.35L5.41 20z\"/>\n",
              "  </svg>\n",
              "      </button>\n",
              "      \n",
              "  <style>\n",
              "    .colab-df-container {\n",
              "      display:flex;\n",
              "      flex-wrap:wrap;\n",
              "      gap: 12px;\n",
              "    }\n",
              "\n",
              "    .colab-df-convert {\n",
              "      background-color: #E8F0FE;\n",
              "      border: none;\n",
              "      border-radius: 50%;\n",
              "      cursor: pointer;\n",
              "      display: none;\n",
              "      fill: #1967D2;\n",
              "      height: 32px;\n",
              "      padding: 0 0 0 0;\n",
              "      width: 32px;\n",
              "    }\n",
              "\n",
              "    .colab-df-convert:hover {\n",
              "      background-color: #E2EBFA;\n",
              "      box-shadow: 0px 1px 2px rgba(60, 64, 67, 0.3), 0px 1px 3px 1px rgba(60, 64, 67, 0.15);\n",
              "      fill: #174EA6;\n",
              "    }\n",
              "\n",
              "    [theme=dark] .colab-df-convert {\n",
              "      background-color: #3B4455;\n",
              "      fill: #D2E3FC;\n",
              "    }\n",
              "\n",
              "    [theme=dark] .colab-df-convert:hover {\n",
              "      background-color: #434B5C;\n",
              "      box-shadow: 0px 1px 3px 1px rgba(0, 0, 0, 0.15);\n",
              "      filter: drop-shadow(0px 1px 2px rgba(0, 0, 0, 0.3));\n",
              "      fill: #FFFFFF;\n",
              "    }\n",
              "  </style>\n",
              "\n",
              "      <script>\n",
              "        const buttonEl =\n",
              "          document.querySelector('#df-9e26ecc6-9704-4dbd-984a-18d31ddd5a97 button.colab-df-convert');\n",
              "        buttonEl.style.display =\n",
              "          google.colab.kernel.accessAllowed ? 'block' : 'none';\n",
              "\n",
              "        async function convertToInteractive(key) {\n",
              "          const element = document.querySelector('#df-9e26ecc6-9704-4dbd-984a-18d31ddd5a97');\n",
              "          const dataTable =\n",
              "            await google.colab.kernel.invokeFunction('convertToInteractive',\n",
              "                                                     [key], {});\n",
              "          if (!dataTable) return;\n",
              "\n",
              "          const docLinkHtml = 'Like what you see? Visit the ' +\n",
              "            '<a target=\"_blank\" href=https://colab.research.google.com/notebooks/data_table.ipynb>data table notebook</a>'\n",
              "            + ' to learn more about interactive tables.';\n",
              "          element.innerHTML = '';\n",
              "          dataTable['output_type'] = 'display_data';\n",
              "          await google.colab.output.renderOutput(dataTable, element);\n",
              "          const docLink = document.createElement('div');\n",
              "          docLink.innerHTML = docLinkHtml;\n",
              "          element.appendChild(docLink);\n",
              "        }\n",
              "      </script>\n",
              "    </div>\n",
              "  </div>\n",
              "  "
            ]
          },
          "metadata": {},
          "execution_count": 804
        }
      ]
    },
    {
      "cell_type": "code",
      "source": [
        "df.shape\n",
        "#Hasilnya (jumlah data, jumlah features) atau (jumlah baris, jumlah kolom)"
      ],
      "metadata": {
        "colab": {
          "base_uri": "https://localhost:8080/"
        },
        "id": "Mu-2YsTKH8kL",
        "outputId": "f071f502-e289-4ed3-b245-d379ed5c8416"
      },
      "execution_count": null,
      "outputs": [
        {
          "output_type": "execute_result",
          "data": {
            "text/plain": [
              "(309, 15)"
            ]
          },
          "metadata": {},
          "execution_count": 805
        }
      ]
    },
    {
      "cell_type": "code",
      "source": [
        "#Membaca 5 data teratas\n",
        "df.head()"
      ],
      "metadata": {
        "colab": {
          "base_uri": "https://localhost:8080/",
          "height": 287
        },
        "id": "bJ6ed1xadIKb",
        "outputId": "b4e48240-3d40-4190-ebf5-599a3f86568b"
      },
      "execution_count": null,
      "outputs": [
        {
          "output_type": "execute_result",
          "data": {
            "text/plain": [
              "   AGE  SMOKING  YELLOW_FINGERS  ANXIETY  PEER_PRESSURE  CHRONIC DISEASE  \\\n",
              "0   69        1               2        2              1                1   \n",
              "1   74        2               1        1              1                2   \n",
              "2   59        1               1        1              2                1   \n",
              "3   63        2               2        2              1                1   \n",
              "4   63        1               2        1              1                1   \n",
              "\n",
              "   FATIGUE   ALLERGY   WHEEZING  ALCOHOL CONSUMING  COUGHING  \\\n",
              "0         2         1         2                  2         2   \n",
              "1         2         2         1                  1         1   \n",
              "2         2         1         2                  1         2   \n",
              "3         1         1         1                  2         1   \n",
              "4         1         1         2                  1         2   \n",
              "\n",
              "   SHORTNESS OF BREATH  SWALLOWING DIFFICULTY  CHEST PAIN LUNG_CANCER  \n",
              "0                    2                      2           2         YES  \n",
              "1                    2                      2           2         YES  \n",
              "2                    2                      1           2          NO  \n",
              "3                    1                      2           2          NO  \n",
              "4                    2                      1           1          NO  "
            ],
            "text/html": [
              "\n",
              "  <div id=\"df-6576b4ea-8af2-4321-8459-f2a37a8db475\">\n",
              "    <div class=\"colab-df-container\">\n",
              "      <div>\n",
              "<style scoped>\n",
              "    .dataframe tbody tr th:only-of-type {\n",
              "        vertical-align: middle;\n",
              "    }\n",
              "\n",
              "    .dataframe tbody tr th {\n",
              "        vertical-align: top;\n",
              "    }\n",
              "\n",
              "    .dataframe thead th {\n",
              "        text-align: right;\n",
              "    }\n",
              "</style>\n",
              "<table border=\"1\" class=\"dataframe\">\n",
              "  <thead>\n",
              "    <tr style=\"text-align: right;\">\n",
              "      <th></th>\n",
              "      <th>AGE</th>\n",
              "      <th>SMOKING</th>\n",
              "      <th>YELLOW_FINGERS</th>\n",
              "      <th>ANXIETY</th>\n",
              "      <th>PEER_PRESSURE</th>\n",
              "      <th>CHRONIC DISEASE</th>\n",
              "      <th>FATIGUE</th>\n",
              "      <th>ALLERGY</th>\n",
              "      <th>WHEEZING</th>\n",
              "      <th>ALCOHOL CONSUMING</th>\n",
              "      <th>COUGHING</th>\n",
              "      <th>SHORTNESS OF BREATH</th>\n",
              "      <th>SWALLOWING DIFFICULTY</th>\n",
              "      <th>CHEST PAIN</th>\n",
              "      <th>LUNG_CANCER</th>\n",
              "    </tr>\n",
              "  </thead>\n",
              "  <tbody>\n",
              "    <tr>\n",
              "      <th>0</th>\n",
              "      <td>69</td>\n",
              "      <td>1</td>\n",
              "      <td>2</td>\n",
              "      <td>2</td>\n",
              "      <td>1</td>\n",
              "      <td>1</td>\n",
              "      <td>2</td>\n",
              "      <td>1</td>\n",
              "      <td>2</td>\n",
              "      <td>2</td>\n",
              "      <td>2</td>\n",
              "      <td>2</td>\n",
              "      <td>2</td>\n",
              "      <td>2</td>\n",
              "      <td>YES</td>\n",
              "    </tr>\n",
              "    <tr>\n",
              "      <th>1</th>\n",
              "      <td>74</td>\n",
              "      <td>2</td>\n",
              "      <td>1</td>\n",
              "      <td>1</td>\n",
              "      <td>1</td>\n",
              "      <td>2</td>\n",
              "      <td>2</td>\n",
              "      <td>2</td>\n",
              "      <td>1</td>\n",
              "      <td>1</td>\n",
              "      <td>1</td>\n",
              "      <td>2</td>\n",
              "      <td>2</td>\n",
              "      <td>2</td>\n",
              "      <td>YES</td>\n",
              "    </tr>\n",
              "    <tr>\n",
              "      <th>2</th>\n",
              "      <td>59</td>\n",
              "      <td>1</td>\n",
              "      <td>1</td>\n",
              "      <td>1</td>\n",
              "      <td>2</td>\n",
              "      <td>1</td>\n",
              "      <td>2</td>\n",
              "      <td>1</td>\n",
              "      <td>2</td>\n",
              "      <td>1</td>\n",
              "      <td>2</td>\n",
              "      <td>2</td>\n",
              "      <td>1</td>\n",
              "      <td>2</td>\n",
              "      <td>NO</td>\n",
              "    </tr>\n",
              "    <tr>\n",
              "      <th>3</th>\n",
              "      <td>63</td>\n",
              "      <td>2</td>\n",
              "      <td>2</td>\n",
              "      <td>2</td>\n",
              "      <td>1</td>\n",
              "      <td>1</td>\n",
              "      <td>1</td>\n",
              "      <td>1</td>\n",
              "      <td>1</td>\n",
              "      <td>2</td>\n",
              "      <td>1</td>\n",
              "      <td>1</td>\n",
              "      <td>2</td>\n",
              "      <td>2</td>\n",
              "      <td>NO</td>\n",
              "    </tr>\n",
              "    <tr>\n",
              "      <th>4</th>\n",
              "      <td>63</td>\n",
              "      <td>1</td>\n",
              "      <td>2</td>\n",
              "      <td>1</td>\n",
              "      <td>1</td>\n",
              "      <td>1</td>\n",
              "      <td>1</td>\n",
              "      <td>1</td>\n",
              "      <td>2</td>\n",
              "      <td>1</td>\n",
              "      <td>2</td>\n",
              "      <td>2</td>\n",
              "      <td>1</td>\n",
              "      <td>1</td>\n",
              "      <td>NO</td>\n",
              "    </tr>\n",
              "  </tbody>\n",
              "</table>\n",
              "</div>\n",
              "      <button class=\"colab-df-convert\" onclick=\"convertToInteractive('df-6576b4ea-8af2-4321-8459-f2a37a8db475')\"\n",
              "              title=\"Convert this dataframe to an interactive table.\"\n",
              "              style=\"display:none;\">\n",
              "        \n",
              "  <svg xmlns=\"http://www.w3.org/2000/svg\" height=\"24px\"viewBox=\"0 0 24 24\"\n",
              "       width=\"24px\">\n",
              "    <path d=\"M0 0h24v24H0V0z\" fill=\"none\"/>\n",
              "    <path d=\"M18.56 5.44l.94 2.06.94-2.06 2.06-.94-2.06-.94-.94-2.06-.94 2.06-2.06.94zm-11 1L8.5 8.5l.94-2.06 2.06-.94-2.06-.94L8.5 2.5l-.94 2.06-2.06.94zm10 10l.94 2.06.94-2.06 2.06-.94-2.06-.94-.94-2.06-.94 2.06-2.06.94z\"/><path d=\"M17.41 7.96l-1.37-1.37c-.4-.4-.92-.59-1.43-.59-.52 0-1.04.2-1.43.59L10.3 9.45l-7.72 7.72c-.78.78-.78 2.05 0 2.83L4 21.41c.39.39.9.59 1.41.59.51 0 1.02-.2 1.41-.59l7.78-7.78 2.81-2.81c.8-.78.8-2.07 0-2.86zM5.41 20L4 18.59l7.72-7.72 1.47 1.35L5.41 20z\"/>\n",
              "  </svg>\n",
              "      </button>\n",
              "      \n",
              "  <style>\n",
              "    .colab-df-container {\n",
              "      display:flex;\n",
              "      flex-wrap:wrap;\n",
              "      gap: 12px;\n",
              "    }\n",
              "\n",
              "    .colab-df-convert {\n",
              "      background-color: #E8F0FE;\n",
              "      border: none;\n",
              "      border-radius: 50%;\n",
              "      cursor: pointer;\n",
              "      display: none;\n",
              "      fill: #1967D2;\n",
              "      height: 32px;\n",
              "      padding: 0 0 0 0;\n",
              "      width: 32px;\n",
              "    }\n",
              "\n",
              "    .colab-df-convert:hover {\n",
              "      background-color: #E2EBFA;\n",
              "      box-shadow: 0px 1px 2px rgba(60, 64, 67, 0.3), 0px 1px 3px 1px rgba(60, 64, 67, 0.15);\n",
              "      fill: #174EA6;\n",
              "    }\n",
              "\n",
              "    [theme=dark] .colab-df-convert {\n",
              "      background-color: #3B4455;\n",
              "      fill: #D2E3FC;\n",
              "    }\n",
              "\n",
              "    [theme=dark] .colab-df-convert:hover {\n",
              "      background-color: #434B5C;\n",
              "      box-shadow: 0px 1px 3px 1px rgba(0, 0, 0, 0.15);\n",
              "      filter: drop-shadow(0px 1px 2px rgba(0, 0, 0, 0.3));\n",
              "      fill: #FFFFFF;\n",
              "    }\n",
              "  </style>\n",
              "\n",
              "      <script>\n",
              "        const buttonEl =\n",
              "          document.querySelector('#df-6576b4ea-8af2-4321-8459-f2a37a8db475 button.colab-df-convert');\n",
              "        buttonEl.style.display =\n",
              "          google.colab.kernel.accessAllowed ? 'block' : 'none';\n",
              "\n",
              "        async function convertToInteractive(key) {\n",
              "          const element = document.querySelector('#df-6576b4ea-8af2-4321-8459-f2a37a8db475');\n",
              "          const dataTable =\n",
              "            await google.colab.kernel.invokeFunction('convertToInteractive',\n",
              "                                                     [key], {});\n",
              "          if (!dataTable) return;\n",
              "\n",
              "          const docLinkHtml = 'Like what you see? Visit the ' +\n",
              "            '<a target=\"_blank\" href=https://colab.research.google.com/notebooks/data_table.ipynb>data table notebook</a>'\n",
              "            + ' to learn more about interactive tables.';\n",
              "          element.innerHTML = '';\n",
              "          dataTable['output_type'] = 'display_data';\n",
              "          await google.colab.output.renderOutput(dataTable, element);\n",
              "          const docLink = document.createElement('div');\n",
              "          docLink.innerHTML = docLinkHtml;\n",
              "          element.appendChild(docLink);\n",
              "        }\n",
              "      </script>\n",
              "    </div>\n",
              "  </div>\n",
              "  "
            ]
          },
          "metadata": {},
          "execution_count": 806
        }
      ]
    },
    {
      "cell_type": "code",
      "source": [
        "#Membaca 5 data terbawah\n",
        "df.tail()"
      ],
      "metadata": {
        "colab": {
          "base_uri": "https://localhost:8080/",
          "height": 287
        },
        "id": "-fc3Nl9CdLak",
        "outputId": "48c40bed-0732-455c-ff38-a81a5d23766a"
      },
      "execution_count": null,
      "outputs": [
        {
          "output_type": "execute_result",
          "data": {
            "text/plain": [
              "     AGE  SMOKING  YELLOW_FINGERS  ANXIETY  PEER_PRESSURE  CHRONIC DISEASE  \\\n",
              "304   56        1               1        1              2                2   \n",
              "305   70        2               1        1              1                1   \n",
              "306   58        2               1        1              1                1   \n",
              "307   67        2               1        2              1                1   \n",
              "308   62        1               1        1              2                1   \n",
              "\n",
              "     FATIGUE   ALLERGY   WHEEZING  ALCOHOL CONSUMING  COUGHING  \\\n",
              "304         2         1         1                  2         2   \n",
              "305         2         2         2                  2         2   \n",
              "306         1         2         2                  2         2   \n",
              "307         2         2         1                  2         2   \n",
              "308         2         2         2                  2         1   \n",
              "\n",
              "     SHORTNESS OF BREATH  SWALLOWING DIFFICULTY  CHEST PAIN LUNG_CANCER  \n",
              "304                    2                      2           1         YES  \n",
              "305                    2                      1           2         YES  \n",
              "306                    1                      1           2         YES  \n",
              "307                    2                      1           2         YES  \n",
              "308                    1                      2           1         YES  "
            ],
            "text/html": [
              "\n",
              "  <div id=\"df-106ef26e-9426-437a-b73a-e5fd8c022e39\">\n",
              "    <div class=\"colab-df-container\">\n",
              "      <div>\n",
              "<style scoped>\n",
              "    .dataframe tbody tr th:only-of-type {\n",
              "        vertical-align: middle;\n",
              "    }\n",
              "\n",
              "    .dataframe tbody tr th {\n",
              "        vertical-align: top;\n",
              "    }\n",
              "\n",
              "    .dataframe thead th {\n",
              "        text-align: right;\n",
              "    }\n",
              "</style>\n",
              "<table border=\"1\" class=\"dataframe\">\n",
              "  <thead>\n",
              "    <tr style=\"text-align: right;\">\n",
              "      <th></th>\n",
              "      <th>AGE</th>\n",
              "      <th>SMOKING</th>\n",
              "      <th>YELLOW_FINGERS</th>\n",
              "      <th>ANXIETY</th>\n",
              "      <th>PEER_PRESSURE</th>\n",
              "      <th>CHRONIC DISEASE</th>\n",
              "      <th>FATIGUE</th>\n",
              "      <th>ALLERGY</th>\n",
              "      <th>WHEEZING</th>\n",
              "      <th>ALCOHOL CONSUMING</th>\n",
              "      <th>COUGHING</th>\n",
              "      <th>SHORTNESS OF BREATH</th>\n",
              "      <th>SWALLOWING DIFFICULTY</th>\n",
              "      <th>CHEST PAIN</th>\n",
              "      <th>LUNG_CANCER</th>\n",
              "    </tr>\n",
              "  </thead>\n",
              "  <tbody>\n",
              "    <tr>\n",
              "      <th>304</th>\n",
              "      <td>56</td>\n",
              "      <td>1</td>\n",
              "      <td>1</td>\n",
              "      <td>1</td>\n",
              "      <td>2</td>\n",
              "      <td>2</td>\n",
              "      <td>2</td>\n",
              "      <td>1</td>\n",
              "      <td>1</td>\n",
              "      <td>2</td>\n",
              "      <td>2</td>\n",
              "      <td>2</td>\n",
              "      <td>2</td>\n",
              "      <td>1</td>\n",
              "      <td>YES</td>\n",
              "    </tr>\n",
              "    <tr>\n",
              "      <th>305</th>\n",
              "      <td>70</td>\n",
              "      <td>2</td>\n",
              "      <td>1</td>\n",
              "      <td>1</td>\n",
              "      <td>1</td>\n",
              "      <td>1</td>\n",
              "      <td>2</td>\n",
              "      <td>2</td>\n",
              "      <td>2</td>\n",
              "      <td>2</td>\n",
              "      <td>2</td>\n",
              "      <td>2</td>\n",
              "      <td>1</td>\n",
              "      <td>2</td>\n",
              "      <td>YES</td>\n",
              "    </tr>\n",
              "    <tr>\n",
              "      <th>306</th>\n",
              "      <td>58</td>\n",
              "      <td>2</td>\n",
              "      <td>1</td>\n",
              "      <td>1</td>\n",
              "      <td>1</td>\n",
              "      <td>1</td>\n",
              "      <td>1</td>\n",
              "      <td>2</td>\n",
              "      <td>2</td>\n",
              "      <td>2</td>\n",
              "      <td>2</td>\n",
              "      <td>1</td>\n",
              "      <td>1</td>\n",
              "      <td>2</td>\n",
              "      <td>YES</td>\n",
              "    </tr>\n",
              "    <tr>\n",
              "      <th>307</th>\n",
              "      <td>67</td>\n",
              "      <td>2</td>\n",
              "      <td>1</td>\n",
              "      <td>2</td>\n",
              "      <td>1</td>\n",
              "      <td>1</td>\n",
              "      <td>2</td>\n",
              "      <td>2</td>\n",
              "      <td>1</td>\n",
              "      <td>2</td>\n",
              "      <td>2</td>\n",
              "      <td>2</td>\n",
              "      <td>1</td>\n",
              "      <td>2</td>\n",
              "      <td>YES</td>\n",
              "    </tr>\n",
              "    <tr>\n",
              "      <th>308</th>\n",
              "      <td>62</td>\n",
              "      <td>1</td>\n",
              "      <td>1</td>\n",
              "      <td>1</td>\n",
              "      <td>2</td>\n",
              "      <td>1</td>\n",
              "      <td>2</td>\n",
              "      <td>2</td>\n",
              "      <td>2</td>\n",
              "      <td>2</td>\n",
              "      <td>1</td>\n",
              "      <td>1</td>\n",
              "      <td>2</td>\n",
              "      <td>1</td>\n",
              "      <td>YES</td>\n",
              "    </tr>\n",
              "  </tbody>\n",
              "</table>\n",
              "</div>\n",
              "      <button class=\"colab-df-convert\" onclick=\"convertToInteractive('df-106ef26e-9426-437a-b73a-e5fd8c022e39')\"\n",
              "              title=\"Convert this dataframe to an interactive table.\"\n",
              "              style=\"display:none;\">\n",
              "        \n",
              "  <svg xmlns=\"http://www.w3.org/2000/svg\" height=\"24px\"viewBox=\"0 0 24 24\"\n",
              "       width=\"24px\">\n",
              "    <path d=\"M0 0h24v24H0V0z\" fill=\"none\"/>\n",
              "    <path d=\"M18.56 5.44l.94 2.06.94-2.06 2.06-.94-2.06-.94-.94-2.06-.94 2.06-2.06.94zm-11 1L8.5 8.5l.94-2.06 2.06-.94-2.06-.94L8.5 2.5l-.94 2.06-2.06.94zm10 10l.94 2.06.94-2.06 2.06-.94-2.06-.94-.94-2.06-.94 2.06-2.06.94z\"/><path d=\"M17.41 7.96l-1.37-1.37c-.4-.4-.92-.59-1.43-.59-.52 0-1.04.2-1.43.59L10.3 9.45l-7.72 7.72c-.78.78-.78 2.05 0 2.83L4 21.41c.39.39.9.59 1.41.59.51 0 1.02-.2 1.41-.59l7.78-7.78 2.81-2.81c.8-.78.8-2.07 0-2.86zM5.41 20L4 18.59l7.72-7.72 1.47 1.35L5.41 20z\"/>\n",
              "  </svg>\n",
              "      </button>\n",
              "      \n",
              "  <style>\n",
              "    .colab-df-container {\n",
              "      display:flex;\n",
              "      flex-wrap:wrap;\n",
              "      gap: 12px;\n",
              "    }\n",
              "\n",
              "    .colab-df-convert {\n",
              "      background-color: #E8F0FE;\n",
              "      border: none;\n",
              "      border-radius: 50%;\n",
              "      cursor: pointer;\n",
              "      display: none;\n",
              "      fill: #1967D2;\n",
              "      height: 32px;\n",
              "      padding: 0 0 0 0;\n",
              "      width: 32px;\n",
              "    }\n",
              "\n",
              "    .colab-df-convert:hover {\n",
              "      background-color: #E2EBFA;\n",
              "      box-shadow: 0px 1px 2px rgba(60, 64, 67, 0.3), 0px 1px 3px 1px rgba(60, 64, 67, 0.15);\n",
              "      fill: #174EA6;\n",
              "    }\n",
              "\n",
              "    [theme=dark] .colab-df-convert {\n",
              "      background-color: #3B4455;\n",
              "      fill: #D2E3FC;\n",
              "    }\n",
              "\n",
              "    [theme=dark] .colab-df-convert:hover {\n",
              "      background-color: #434B5C;\n",
              "      box-shadow: 0px 1px 3px 1px rgba(0, 0, 0, 0.15);\n",
              "      filter: drop-shadow(0px 1px 2px rgba(0, 0, 0, 0.3));\n",
              "      fill: #FFFFFF;\n",
              "    }\n",
              "  </style>\n",
              "\n",
              "      <script>\n",
              "        const buttonEl =\n",
              "          document.querySelector('#df-106ef26e-9426-437a-b73a-e5fd8c022e39 button.colab-df-convert');\n",
              "        buttonEl.style.display =\n",
              "          google.colab.kernel.accessAllowed ? 'block' : 'none';\n",
              "\n",
              "        async function convertToInteractive(key) {\n",
              "          const element = document.querySelector('#df-106ef26e-9426-437a-b73a-e5fd8c022e39');\n",
              "          const dataTable =\n",
              "            await google.colab.kernel.invokeFunction('convertToInteractive',\n",
              "                                                     [key], {});\n",
              "          if (!dataTable) return;\n",
              "\n",
              "          const docLinkHtml = 'Like what you see? Visit the ' +\n",
              "            '<a target=\"_blank\" href=https://colab.research.google.com/notebooks/data_table.ipynb>data table notebook</a>'\n",
              "            + ' to learn more about interactive tables.';\n",
              "          element.innerHTML = '';\n",
              "          dataTable['output_type'] = 'display_data';\n",
              "          await google.colab.output.renderOutput(dataTable, element);\n",
              "          const docLink = document.createElement('div');\n",
              "          docLink.innerHTML = docLinkHtml;\n",
              "          element.appendChild(docLink);\n",
              "        }\n",
              "      </script>\n",
              "    </div>\n",
              "  </div>\n",
              "  "
            ]
          },
          "metadata": {},
          "execution_count": 807
        }
      ]
    },
    {
      "cell_type": "code",
      "source": [
        "#Visualisasi dari tiap variabel data\n",
        "df.hist(bins=10, figsize=(10,10))\n",
        "plt.show()"
      ],
      "metadata": {
        "colab": {
          "base_uri": "https://localhost:8080/",
          "height": 607
        },
        "id": "PgU5fQHJQrCI",
        "outputId": "e2f79f85-2590-41d9-eccf-7b4740c01373"
      },
      "execution_count": null,
      "outputs": [
        {
          "output_type": "display_data",
          "data": {
            "text/plain": [
              "<Figure size 720x720 with 16 Axes>"
            ],
            "image/png": "[encoded data removed]"
          },
          "metadata": {
            "needs_background": "light"
          }
        }
      ]
    },
    {
      "cell_type": "markdown",
      "source": [
        "#Normalisasi Data"
      ],
      "metadata": {
        "id": "S_dXADYYnz18"
      }
    },
    {
      "cell_type": "code",
      "source": [
        "data = df.drop(columns=['LUNG_CANCER'])\n",
        "df_norm = (data-data.min())/ (data.max() - data.min())\n",
        "df_norm"
      ],
      "metadata": {
        "colab": {
          "base_uri": "https://localhost:8080/",
          "height": 505
        },
        "id": "6U-O7emrB_a9",
        "outputId": "1f05ee6f-fe07-462a-f55c-ae0524acb955"
      },
      "execution_count": null,
      "outputs": [
        {
          "output_type": "execute_result",
          "data": {
            "text/plain": [
              "          AGE  SMOKING  YELLOW_FINGERS  ANXIETY  PEER_PRESSURE  \\\n",
              "0    0.727273      0.0             1.0      1.0            0.0   \n",
              "1    0.803030      1.0             0.0      0.0            0.0   \n",
              "2    0.575758      0.0             0.0      0.0            1.0   \n",
              "3    0.636364      1.0             1.0      1.0            0.0   \n",
              "4    0.636364      0.0             1.0      0.0            0.0   \n",
              "..        ...      ...             ...      ...            ...   \n",
              "304  0.530303      0.0             0.0      0.0            1.0   \n",
              "305  0.742424      1.0             0.0      0.0            0.0   \n",
              "306  0.560606      1.0             0.0      0.0            0.0   \n",
              "307  0.696970      1.0             0.0      1.0            0.0   \n",
              "308  0.621212      0.0             0.0      0.0            1.0   \n",
              "\n",
              "     CHRONIC DISEASE  FATIGUE   ALLERGY   WHEEZING  ALCOHOL CONSUMING  \\\n",
              "0                0.0       1.0       0.0       1.0                1.0   \n",
              "1                1.0       1.0       1.0       0.0                0.0   \n",
              "2                0.0       1.0       0.0       1.0                0.0   \n",
              "3                0.0       0.0       0.0       0.0                1.0   \n",
              "4                0.0       0.0       0.0       1.0                0.0   \n",
              "..               ...       ...       ...       ...                ...   \n",
              "304              1.0       1.0       0.0       0.0                1.0   \n",
              "305              0.0       1.0       1.0       1.0                1.0   \n",
              "306              0.0       0.0       1.0       1.0                1.0   \n",
              "307              0.0       1.0       1.0       0.0                1.0   \n",
              "308              0.0       1.0       1.0       1.0                1.0   \n",
              "\n",
              "     COUGHING  SHORTNESS OF BREATH  SWALLOWING DIFFICULTY  CHEST PAIN  \n",
              "0         1.0                  1.0                    1.0         1.0  \n",
              "1         0.0                  1.0                    1.0         1.0  \n",
              "2         1.0                  1.0                    0.0         1.0  \n",
              "3         0.0                  0.0                    1.0         1.0  \n",
              "4         1.0                  1.0                    0.0         0.0  \n",
              "..        ...                  ...                    ...         ...  \n",
              "304       1.0                  1.0                    1.0         0.0  \n",
              "305       1.0                  1.0                    0.0         1.0  \n",
              "306       1.0                  0.0                    0.0         1.0  \n",
              "307       1.0                  1.0                    0.0         1.0  \n",
              "308       0.0                  0.0                    1.0         0.0  \n",
              "\n",
              "[309 rows x 14 columns]"
            ],
            "text/html": [
              "\n",
              "  <div id=\"df-717772b5-c58b-4159-b75e-7abc179e8af5\">\n",
              "    <div class=\"colab-df-container\">\n",
              "      <div>\n",
              "<style scoped>\n",
              "    .dataframe tbody tr th:only-of-type {\n",
              "        vertical-align: middle;\n",
              "    }\n",
              "\n",
              "    .dataframe tbody tr th {\n",
              "        vertical-align: top;\n",
              "    }\n",
              "\n",
              "    .dataframe thead th {\n",
              "        text-align: right;\n",
              "    }\n",
              "</style>\n",
              "<table border=\"1\" class=\"dataframe\">\n",
              "  <thead>\n",
              "    <tr style=\"text-align: right;\">\n",
              "      <th></th>\n",
              "      <th>AGE</th>\n",
              "      <th>SMOKING</th>\n",
              "      <th>YELLOW_FINGERS</th>\n",
              "      <th>ANXIETY</th>\n",
              "      <th>PEER_PRESSURE</th>\n",
              "      <th>CHRONIC DISEASE</th>\n",
              "      <th>FATIGUE</th>\n",
              "      <th>ALLERGY</th>\n",
              "      <th>WHEEZING</th>\n",
              "      <th>ALCOHOL CONSUMING</th>\n",
              "      <th>COUGHING</th>\n",
              "      <th>SHORTNESS OF BREATH</th>\n",
              "      <th>SWALLOWING DIFFICULTY</th>\n",
              "      <th>CHEST PAIN</th>\n",
              "    </tr>\n",
              "  </thead>\n",
              "  <tbody>\n",
              "    <tr>\n",
              "      <th>0</th>\n",
              "      <td>0.727273</td>\n",
              "      <td>0.0</td>\n",
              "      <td>1.0</td>\n",
              "      <td>1.0</td>\n",
              "      <td>0.0</td>\n",
              "      <td>0.0</td>\n",
              "      <td>1.0</td>\n",
              "      <td>0.0</td>\n",
              "      <td>1.0</td>\n",
              "      <td>1.0</td>\n",
              "      <td>1.0</td>\n",
              "      <td>1.0</td>\n",
              "      <td>1.0</td>\n",
              "      <td>1.0</td>\n",
              "    </tr>\n",
              "    <tr>\n",
              "      <th>1</th>\n",
              "      <td>0.803030</td>\n",
              "      <td>1.0</td>\n",
              "      <td>0.0</td>\n",
              "      <td>0.0</td>\n",
              "      <td>0.0</td>\n",
              "      <td>1.0</td>\n",
              "      <td>1.0</td>\n",
              "      <td>1.0</td>\n",
              "      <td>0.0</td>\n",
              "      <td>0.0</td>\n",
              "      <td>0.0</td>\n",
              "      <td>1.0</td>\n",
              "      <td>1.0</td>\n",
              "      <td>1.0</td>\n",
              "    </tr>\n",
              "    <tr>\n",
              "      <th>2</th>\n",
              "      <td>0.575758</td>\n",
              "      <td>0.0</td>\n",
              "      <td>0.0</td>\n",
              "      <td>0.0</td>\n",
              "      <td>1.0</td>\n",
              "      <td>0.0</td>\n",
              "      <td>1.0</td>\n",
              "      <td>0.0</td>\n",
              "      <td>1.0</td>\n",
              "      <td>0.0</td>\n",
              "      <td>1.0</td>\n",
              "      <td>1.0</td>\n",
              "      <td>0.0</td>\n",
              "      <td>1.0</td>\n",
              "    </tr>\n",
              "    <tr>\n",
              "      <th>3</th>\n",
              "      <td>0.636364</td>\n",
              "      <td>1.0</td>\n",
              "      <td>1.0</td>\n",
              "      <td>1.0</td>\n",
              "      <td>0.0</td>\n",
              "      <td>0.0</td>\n",
              "      <td>0.0</td>\n",
              "      <td>0.0</td>\n",
              "      <td>0.0</td>\n",
              "      <td>1.0</td>\n",
              "      <td>0.0</td>\n",
              "      <td>0.0</td>\n",
              "      <td>1.0</td>\n",
              "      <td>1.0</td>\n",
              "    </tr>\n",
              "    <tr>\n",
              "      <th>4</th>\n",
              "      <td>0.636364</td>\n",
              "      <td>0.0</td>\n",
              "      <td>1.0</td>\n",
              "      <td>0.0</td>\n",
              "      <td>0.0</td>\n",
              "      <td>0.0</td>\n",
              "      <td>0.0</td>\n",
              "      <td>0.0</td>\n",
              "      <td>1.0</td>\n",
              "      <td>0.0</td>\n",
              "      <td>1.0</td>\n",
              "      <td>1.0</td>\n",
              "      <td>0.0</td>\n",
              "      <td>0.0</td>\n",
              "    </tr>\n",
              "    <tr>\n",
              "      <th>...</th>\n",
              "      <td>...</td>\n",
              "      <td>...</td>\n",
              "      <td>...</td>\n",
              "      <td>...</td>\n",
              "      <td>...</td>\n",
              "      <td>...</td>\n",
              "      <td>...</td>\n",
              "      <td>...</td>\n",
              "      <td>...</td>\n",
              "      <td>...</td>\n",
              "      <td>...</td>\n",
              "      <td>...</td>\n",
              "      <td>...</td>\n",
              "      <td>...</td>\n",
              "    </tr>\n",
              "    <tr>\n",
              "      <th>304</th>\n",
              "      <td>0.530303</td>\n",
              "      <td>0.0</td>\n",
              "      <td>0.0</td>\n",
              "      <td>0.0</td>\n",
              "      <td>1.0</td>\n",
              "      <td>1.0</td>\n",
              "      <td>1.0</td>\n",
              "      <td>0.0</td>\n",
              "      <td>0.0</td>\n",
              "      <td>1.0</td>\n",
              "      <td>1.0</td>\n",
              "      <td>1.0</td>\n",
              "      <td>1.0</td>\n",
              "      <td>0.0</td>\n",
              "    </tr>\n",
              "    <tr>\n",
              "      <th>305</th>\n",
              "      <td>0.742424</td>\n",
              "      <td>1.0</td>\n",
              "      <td>0.0</td>\n",
              "      <td>0.0</td>\n",
              "      <td>0.0</td>\n",
              "      <td>0.0</td>\n",
              "      <td>1.0</td>\n",
              "      <td>1.0</td>\n",
              "      <td>1.0</td>\n",
              "      <td>1.0</td>\n",
              "      <td>1.0</td>\n",
              "      <td>1.0</td>\n",
              "      <td>0.0</td>\n",
              "      <td>1.0</td>\n",
              "    </tr>\n",
              "    <tr>\n",
              "      <th>306</th>\n",
              "      <td>0.560606</td>\n",
              "      <td>1.0</td>\n",
              "      <td>0.0</td>\n",
              "      <td>0.0</td>\n",
              "      <td>0.0</td>\n",
              "      <td>0.0</td>\n",
              "      <td>0.0</td>\n",
              "      <td>1.0</td>\n",
              "      <td>1.0</td>\n",
              "      <td>1.0</td>\n",
              "      <td>1.0</td>\n",
              "      <td>0.0</td>\n",
              "      <td>0.0</td>\n",
              "      <td>1.0</td>\n",
              "    </tr>\n",
              "    <tr>\n",
              "      <th>307</th>\n",
              "      <td>0.696970</td>\n",
              "      <td>1.0</td>\n",
              "      <td>0.0</td>\n",
              "      <td>1.0</td>\n",
              "      <td>0.0</td>\n",
              "      <td>0.0</td>\n",
              "      <td>1.0</td>\n",
              "      <td>1.0</td>\n",
              "      <td>0.0</td>\n",
              "      <td>1.0</td>\n",
              "      <td>1.0</td>\n",
              "      <td>1.0</td>\n",
              "      <td>0.0</td>\n",
              "      <td>1.0</td>\n",
              "    </tr>\n",
              "    <tr>\n",
              "      <th>308</th>\n",
              "      <td>0.621212</td>\n",
              "      <td>0.0</td>\n",
              "      <td>0.0</td>\n",
              "      <td>0.0</td>\n",
              "      <td>1.0</td>\n",
              "      <td>0.0</td>\n",
              "      <td>1.0</td>\n",
              "      <td>1.0</td>\n",
              "      <td>1.0</td>\n",
              "      <td>1.0</td>\n",
              "      <td>0.0</td>\n",
              "      <td>0.0</td>\n",
              "      <td>1.0</td>\n",
              "      <td>0.0</td>\n",
              "    </tr>\n",
              "  </tbody>\n",
              "</table>\n",
              "<p>309 rows × 14 columns</p>\n",
              "</div>\n",
              "      <button class=\"colab-df-convert\" onclick=\"convertToInteractive('df-717772b5-c58b-4159-b75e-7abc179e8af5')\"\n",
              "              title=\"Convert this dataframe to an interactive table.\"\n",
              "              style=\"display:none;\">\n",
              "        \n",
              "  <svg xmlns=\"http://www.w3.org/2000/svg\" height=\"24px\"viewBox=\"0 0 24 24\"\n",
              "       width=\"24px\">\n",
              "    <path d=\"M0 0h24v24H0V0z\" fill=\"none\"/>\n",
              "    <path d=\"M18.56 5.44l.94 2.06.94-2.06 2.06-.94-2.06-.94-.94-2.06-.94 2.06-2.06.94zm-11 1L8.5 8.5l.94-2.06 2.06-.94-2.06-.94L8.5 2.5l-.94 2.06-2.06.94zm10 10l.94 2.06.94-2.06 2.06-.94-2.06-.94-.94-2.06-.94 2.06-2.06.94z\"/><path d=\"M17.41 7.96l-1.37-1.37c-.4-.4-.92-.59-1.43-.59-.52 0-1.04.2-1.43.59L10.3 9.45l-7.72 7.72c-.78.78-.78 2.05 0 2.83L4 21.41c.39.39.9.59 1.41.59.51 0 1.02-.2 1.41-.59l7.78-7.78 2.81-2.81c.8-.78.8-2.07 0-2.86zM5.41 20L4 18.59l7.72-7.72 1.47 1.35L5.41 20z\"/>\n",
              "  </svg>\n",
              "      </button>\n",
              "      \n",
              "  <style>\n",
              "    .colab-df-container {\n",
              "      display:flex;\n",
              "      flex-wrap:wrap;\n",
              "      gap: 12px;\n",
              "    }\n",
              "\n",
              "    .colab-df-convert {\n",
              "      background-color: #E8F0FE;\n",
              "      border: none;\n",
              "      border-radius: 50%;\n",
              "      cursor: pointer;\n",
              "      display: none;\n",
              "      fill: #1967D2;\n",
              "      height: 32px;\n",
              "      padding: 0 0 0 0;\n",
              "      width: 32px;\n",
              "    }\n",
              "\n",
              "    .colab-df-convert:hover {\n",
              "      background-color: #E2EBFA;\n",
              "      box-shadow: 0px 1px 2px rgba(60, 64, 67, 0.3), 0px 1px 3px 1px rgba(60, 64, 67, 0.15);\n",
              "      fill: #174EA6;\n",
              "    }\n",
              "\n",
              "    [theme=dark] .colab-df-convert {\n",
              "      background-color: #3B4455;\n",
              "      fill: #D2E3FC;\n",
              "    }\n",
              "\n",
              "    [theme=dark] .colab-df-convert:hover {\n",
              "      background-color: #434B5C;\n",
              "      box-shadow: 0px 1px 3px 1px rgba(0, 0, 0, 0.15);\n",
              "      filter: drop-shadow(0px 1px 2px rgba(0, 0, 0, 0.3));\n",
              "      fill: #FFFFFF;\n",
              "    }\n",
              "  </style>\n",
              "\n",
              "      <script>\n",
              "        const buttonEl =\n",
              "          document.querySelector('#df-717772b5-c58b-4159-b75e-7abc179e8af5 button.colab-df-convert');\n",
              "        buttonEl.style.display =\n",
              "          google.colab.kernel.accessAllowed ? 'block' : 'none';\n",
              "\n",
              "        async function convertToInteractive(key) {\n",
              "          const element = document.querySelector('#df-717772b5-c58b-4159-b75e-7abc179e8af5');\n",
              "          const dataTable =\n",
              "            await google.colab.kernel.invokeFunction('convertToInteractive',\n",
              "                                                     [key], {});\n",
              "          if (!dataTable) return;\n",
              "\n",
              "          const docLinkHtml = 'Like what you see? Visit the ' +\n",
              "            '<a target=\"_blank\" href=https://colab.research.google.com/notebooks/data_table.ipynb>data table notebook</a>'\n",
              "            + ' to learn more about interactive tables.';\n",
              "          element.innerHTML = '';\n",
              "          dataTable['output_type'] = 'display_data';\n",
              "          await google.colab.output.renderOutput(dataTable, element);\n",
              "          const docLink = document.createElement('div');\n",
              "          docLink.innerHTML = docLinkHtml;\n",
              "          element.appendChild(docLink);\n",
              "        }\n",
              "      </script>\n",
              "    </div>\n",
              "  </div>\n",
              "  "
            ]
          },
          "metadata": {},
          "execution_count": 809
        }
      ]
    },
    {
      "cell_type": "code",
      "source": [
        "df_norm['LUNG_CANCER'] = df['LUNG_CANCER']\n",
        "#cleanup_nums = {\"Target\":     {\"NF\": 0, \"F\": 1} } #ubah data kategorik jadi numerik\n",
        "#df2 = df2.replace(cleanup_nums)\n",
        "df_norm"
      ],
      "metadata": {
        "colab": {
          "base_uri": "https://localhost:8080/",
          "height": 505
        },
        "id": "dFGXF76kqv4x",
        "outputId": "6be0acb9-d900-4830-9d64-0d1a0bb8c869"
      },
      "execution_count": null,
      "outputs": [
        {
          "output_type": "execute_result",
          "data": {
            "text/plain": [
              "          AGE  SMOKING  YELLOW_FINGERS  ANXIETY  PEER_PRESSURE  \\\n",
              "0    0.727273      0.0             1.0      1.0            0.0   \n",
              "1    0.803030      1.0             0.0      0.0            0.0   \n",
              "2    0.575758      0.0             0.0      0.0            1.0   \n",
              "3    0.636364      1.0             1.0      1.0            0.0   \n",
              "4    0.636364      0.0             1.0      0.0            0.0   \n",
              "..        ...      ...             ...      ...            ...   \n",
              "304  0.530303      0.0             0.0      0.0            1.0   \n",
              "305  0.742424      1.0             0.0      0.0            0.0   \n",
              "306  0.560606      1.0             0.0      0.0            0.0   \n",
              "307  0.696970      1.0             0.0      1.0            0.0   \n",
              "308  0.621212      0.0             0.0      0.0            1.0   \n",
              "\n",
              "     CHRONIC DISEASE  FATIGUE   ALLERGY   WHEEZING  ALCOHOL CONSUMING  \\\n",
              "0                0.0       1.0       0.0       1.0                1.0   \n",
              "1                1.0       1.0       1.0       0.0                0.0   \n",
              "2                0.0       1.0       0.0       1.0                0.0   \n",
              "3                0.0       0.0       0.0       0.0                1.0   \n",
              "4                0.0       0.0       0.0       1.0                0.0   \n",
              "..               ...       ...       ...       ...                ...   \n",
              "304              1.0       1.0       0.0       0.0                1.0   \n",
              "305              0.0       1.0       1.0       1.0                1.0   \n",
              "306              0.0       0.0       1.0       1.0                1.0   \n",
              "307              0.0       1.0       1.0       0.0                1.0   \n",
              "308              0.0       1.0       1.0       1.0                1.0   \n",
              "\n",
              "     COUGHING  SHORTNESS OF BREATH  SWALLOWING DIFFICULTY  CHEST PAIN  \\\n",
              "0         1.0                  1.0                    1.0         1.0   \n",
              "1         0.0                  1.0                    1.0         1.0   \n",
              "2         1.0                  1.0                    0.0         1.0   \n",
              "3         0.0                  0.0                    1.0         1.0   \n",
              "4         1.0                  1.0                    0.0         0.0   \n",
              "..        ...                  ...                    ...         ...   \n",
              "304       1.0                  1.0                    1.0         0.0   \n",
              "305       1.0                  1.0                    0.0         1.0   \n",
              "306       1.0                  0.0                    0.0         1.0   \n",
              "307       1.0                  1.0                    0.0         1.0   \n",
              "308       0.0                  0.0                    1.0         0.0   \n",
              "\n",
              "    LUNG_CANCER  \n",
              "0           YES  \n",
              "1           YES  \n",
              "2            NO  \n",
              "3            NO  \n",
              "4            NO  \n",
              "..          ...  \n",
              "304         YES  \n",
              "305         YES  \n",
              "306         YES  \n",
              "307         YES  \n",
              "308         YES  \n",
              "\n",
              "[309 rows x 15 columns]"
            ],
            "text/html": [
              "\n",
              "  <div id=\"df-2bcbe899-21f4-48ac-8cd1-ab9b7e6d8d28\">\n",
              "    <div class=\"colab-df-container\">\n",
              "      <div>\n",
              "<style scoped>\n",
              "    .dataframe tbody tr th:only-of-type {\n",
              "        vertical-align: middle;\n",
              "    }\n",
              "\n",
              "    .dataframe tbody tr th {\n",
              "        vertical-align: top;\n",
              "    }\n",
              "\n",
              "    .dataframe thead th {\n",
              "        text-align: right;\n",
              "    }\n",
              "</style>\n",
              "<table border=\"1\" class=\"dataframe\">\n",
              "  <thead>\n",
              "    <tr style=\"text-align: right;\">\n",
              "      <th></th>\n",
              "      <th>AGE</th>\n",
              "      <th>SMOKING</th>\n",
              "      <th>YELLOW_FINGERS</th>\n",
              "      <th>ANXIETY</th>\n",
              "      <th>PEER_PRESSURE</th>\n",
              "      <th>CHRONIC DISEASE</th>\n",
              "      <th>FATIGUE</th>\n",
              "      <th>ALLERGY</th>\n",
              "      <th>WHEEZING</th>\n",
              "      <th>ALCOHOL CONSUMING</th>\n",
              "      <th>COUGHING</th>\n",
              "      <th>SHORTNESS OF BREATH</th>\n",
              "      <th>SWALLOWING DIFFICULTY</th>\n",
              "      <th>CHEST PAIN</th>\n",
              "      <th>LUNG_CANCER</th>\n",
              "    </tr>\n",
              "  </thead>\n",
              "  <tbody>\n",
              "    <tr>\n",
              "      <th>0</th>\n",
              "      <td>0.727273</td>\n",
              "      <td>0.0</td>\n",
              "      <td>1.0</td>\n",
              "      <td>1.0</td>\n",
              "      <td>0.0</td>\n",
              "      <td>0.0</td>\n",
              "      <td>1.0</td>\n",
              "      <td>0.0</td>\n",
              "      <td>1.0</td>\n",
              "      <td>1.0</td>\n",
              "      <td>1.0</td>\n",
              "      <td>1.0</td>\n",
              "      <td>1.0</td>\n",
              "      <td>1.0</td>\n",
              "      <td>YES</td>\n",
              "    </tr>\n",
              "    <tr>\n",
              "      <th>1</th>\n",
              "      <td>0.803030</td>\n",
              "      <td>1.0</td>\n",
              "      <td>0.0</td>\n",
              "      <td>0.0</td>\n",
              "      <td>0.0</td>\n",
              "      <td>1.0</td>\n",
              "      <td>1.0</td>\n",
              "      <td>1.0</td>\n",
              "      <td>0.0</td>\n",
              "      <td>0.0</td>\n",
              "      <td>0.0</td>\n",
              "      <td>1.0</td>\n",
              "      <td>1.0</td>\n",
              "      <td>1.0</td>\n",
              "      <td>YES</td>\n",
              "    </tr>\n",
              "    <tr>\n",
              "      <th>2</th>\n",
              "      <td>0.575758</td>\n",
              "      <td>0.0</td>\n",
              "      <td>0.0</td>\n",
              "      <td>0.0</td>\n",
              "      <td>1.0</td>\n",
              "      <td>0.0</td>\n",
              "      <td>1.0</td>\n",
              "      <td>0.0</td>\n",
              "      <td>1.0</td>\n",
              "      <td>0.0</td>\n",
              "      <td>1.0</td>\n",
              "      <td>1.0</td>\n",
              "      <td>0.0</td>\n",
              "      <td>1.0</td>\n",
              "      <td>NO</td>\n",
              "    </tr>\n",
              "    <tr>\n",
              "      <th>3</th>\n",
              "      <td>0.636364</td>\n",
              "      <td>1.0</td>\n",
              "      <td>1.0</td>\n",
              "      <td>1.0</td>\n",
              "      <td>0.0</td>\n",
              "      <td>0.0</td>\n",
              "      <td>0.0</td>\n",
              "      <td>0.0</td>\n",
              "      <td>0.0</td>\n",
              "      <td>1.0</td>\n",
              "      <td>0.0</td>\n",
              "      <td>0.0</td>\n",
              "      <td>1.0</td>\n",
              "      <td>1.0</td>\n",
              "      <td>NO</td>\n",
              "    </tr>\n",
              "    <tr>\n",
              "      <th>4</th>\n",
              "      <td>0.636364</td>\n",
              "      <td>0.0</td>\n",
              "      <td>1.0</td>\n",
              "      <td>0.0</td>\n",
              "      <td>0.0</td>\n",
              "      <td>0.0</td>\n",
              "      <td>0.0</td>\n",
              "      <td>0.0</td>\n",
              "      <td>1.0</td>\n",
              "      <td>0.0</td>\n",
              "      <td>1.0</td>\n",
              "      <td>1.0</td>\n",
              "      <td>0.0</td>\n",
              "      <td>0.0</td>\n",
              "      <td>NO</td>\n",
              "    </tr>\n",
              "    <tr>\n",
              "      <th>...</th>\n",
              "      <td>...</td>\n",
              "      <td>...</td>\n",
              "      <td>...</td>\n",
              "      <td>...</td>\n",
              "      <td>...</td>\n",
              "      <td>...</td>\n",
              "      <td>...</td>\n",
              "      <td>...</td>\n",
              "      <td>...</td>\n",
              "      <td>...</td>\n",
              "      <td>...</td>\n",
              "      <td>...</td>\n",
              "      <td>...</td>\n",
              "      <td>...</td>\n",
              "      <td>...</td>\n",
              "    </tr>\n",
              "    <tr>\n",
              "      <th>304</th>\n",
              "      <td>0.530303</td>\n",
              "      <td>0.0</td>\n",
              "      <td>0.0</td>\n",
              "      <td>0.0</td>\n",
              "      <td>1.0</td>\n",
              "      <td>1.0</td>\n",
              "      <td>1.0</td>\n",
              "      <td>0.0</td>\n",
              "      <td>0.0</td>\n",
              "      <td>1.0</td>\n",
              "      <td>1.0</td>\n",
              "      <td>1.0</td>\n",
              "      <td>1.0</td>\n",
              "      <td>0.0</td>\n",
              "      <td>YES</td>\n",
              "    </tr>\n",
              "    <tr>\n",
              "      <th>305</th>\n",
              "      <td>0.742424</td>\n",
              "      <td>1.0</td>\n",
              "      <td>0.0</td>\n",
              "      <td>0.0</td>\n",
              "      <td>0.0</td>\n",
              "      <td>0.0</td>\n",
              "      <td>1.0</td>\n",
              "      <td>1.0</td>\n",
              "      <td>1.0</td>\n",
              "      <td>1.0</td>\n",
              "      <td>1.0</td>\n",
              "      <td>1.0</td>\n",
              "      <td>0.0</td>\n",
              "      <td>1.0</td>\n",
              "      <td>YES</td>\n",
              "    </tr>\n",
              "    <tr>\n",
              "      <th>306</th>\n",
              "      <td>0.560606</td>\n",
              "      <td>1.0</td>\n",
              "      <td>0.0</td>\n",
              "      <td>0.0</td>\n",
              "      <td>0.0</td>\n",
              "      <td>0.0</td>\n",
              "      <td>0.0</td>\n",
              "      <td>1.0</td>\n",
              "      <td>1.0</td>\n",
              "      <td>1.0</td>\n",
              "      <td>1.0</td>\n",
              "      <td>0.0</td>\n",
              "      <td>0.0</td>\n",
              "      <td>1.0</td>\n",
              "      <td>YES</td>\n",
              "    </tr>\n",
              "    <tr>\n",
              "      <th>307</th>\n",
              "      <td>0.696970</td>\n",
              "      <td>1.0</td>\n",
              "      <td>0.0</td>\n",
              "      <td>1.0</td>\n",
              "      <td>0.0</td>\n",
              "      <td>0.0</td>\n",
              "      <td>1.0</td>\n",
              "      <td>1.0</td>\n",
              "      <td>0.0</td>\n",
              "      <td>1.0</td>\n",
              "      <td>1.0</td>\n",
              "      <td>1.0</td>\n",
              "      <td>0.0</td>\n",
              "      <td>1.0</td>\n",
              "      <td>YES</td>\n",
              "    </tr>\n",
              "    <tr>\n",
              "      <th>308</th>\n",
              "      <td>0.621212</td>\n",
              "      <td>0.0</td>\n",
              "      <td>0.0</td>\n",
              "      <td>0.0</td>\n",
              "      <td>1.0</td>\n",
              "      <td>0.0</td>\n",
              "      <td>1.0</td>\n",
              "      <td>1.0</td>\n",
              "      <td>1.0</td>\n",
              "      <td>1.0</td>\n",
              "      <td>0.0</td>\n",
              "      <td>0.0</td>\n",
              "      <td>1.0</td>\n",
              "      <td>0.0</td>\n",
              "      <td>YES</td>\n",
              "    </tr>\n",
              "  </tbody>\n",
              "</table>\n",
              "<p>309 rows × 15 columns</p>\n",
              "</div>\n",
              "      <button class=\"colab-df-convert\" onclick=\"convertToInteractive('df-2bcbe899-21f4-48ac-8cd1-ab9b7e6d8d28')\"\n",
              "              title=\"Convert this dataframe to an interactive table.\"\n",
              "              style=\"display:none;\">\n",
              "        \n",
              "  <svg xmlns=\"http://www.w3.org/2000/svg\" height=\"24px\"viewBox=\"0 0 24 24\"\n",
              "       width=\"24px\">\n",
              "    <path d=\"M0 0h24v24H0V0z\" fill=\"none\"/>\n",
              "    <path d=\"M18.56 5.44l.94 2.06.94-2.06 2.06-.94-2.06-.94-.94-2.06-.94 2.06-2.06.94zm-11 1L8.5 8.5l.94-2.06 2.06-.94-2.06-.94L8.5 2.5l-.94 2.06-2.06.94zm10 10l.94 2.06.94-2.06 2.06-.94-2.06-.94-.94-2.06-.94 2.06-2.06.94z\"/><path d=\"M17.41 7.96l-1.37-1.37c-.4-.4-.92-.59-1.43-.59-.52 0-1.04.2-1.43.59L10.3 9.45l-7.72 7.72c-.78.78-.78 2.05 0 2.83L4 21.41c.39.39.9.59 1.41.59.51 0 1.02-.2 1.41-.59l7.78-7.78 2.81-2.81c.8-.78.8-2.07 0-2.86zM5.41 20L4 18.59l7.72-7.72 1.47 1.35L5.41 20z\"/>\n",
              "  </svg>\n",
              "      </button>\n",
              "      \n",
              "  <style>\n",
              "    .colab-df-container {\n",
              "      display:flex;\n",
              "      flex-wrap:wrap;\n",
              "      gap: 12px;\n",
              "    }\n",
              "\n",
              "    .colab-df-convert {\n",
              "      background-color: #E8F0FE;\n",
              "      border: none;\n",
              "      border-radius: 50%;\n",
              "      cursor: pointer;\n",
              "      display: none;\n",
              "      fill: #1967D2;\n",
              "      height: 32px;\n",
              "      padding: 0 0 0 0;\n",
              "      width: 32px;\n",
              "    }\n",
              "\n",
              "    .colab-df-convert:hover {\n",
              "      background-color: #E2EBFA;\n",
              "      box-shadow: 0px 1px 2px rgba(60, 64, 67, 0.3), 0px 1px 3px 1px rgba(60, 64, 67, 0.15);\n",
              "      fill: #174EA6;\n",
              "    }\n",
              "\n",
              "    [theme=dark] .colab-df-convert {\n",
              "      background-color: #3B4455;\n",
              "      fill: #D2E3FC;\n",
              "    }\n",
              "\n",
              "    [theme=dark] .colab-df-convert:hover {\n",
              "      background-color: #434B5C;\n",
              "      box-shadow: 0px 1px 3px 1px rgba(0, 0, 0, 0.15);\n",
              "      filter: drop-shadow(0px 1px 2px rgba(0, 0, 0, 0.3));\n",
              "      fill: #FFFFFF;\n",
              "    }\n",
              "  </style>\n",
              "\n",
              "      <script>\n",
              "        const buttonEl =\n",
              "          document.querySelector('#df-2bcbe899-21f4-48ac-8cd1-ab9b7e6d8d28 button.colab-df-convert');\n",
              "        buttonEl.style.display =\n",
              "          google.colab.kernel.accessAllowed ? 'block' : 'none';\n",
              "\n",
              "        async function convertToInteractive(key) {\n",
              "          const element = document.querySelector('#df-2bcbe899-21f4-48ac-8cd1-ab9b7e6d8d28');\n",
              "          const dataTable =\n",
              "            await google.colab.kernel.invokeFunction('convertToInteractive',\n",
              "                                                     [key], {});\n",
              "          if (!dataTable) return;\n",
              "\n",
              "          const docLinkHtml = 'Like what you see? Visit the ' +\n",
              "            '<a target=\"_blank\" href=https://colab.research.google.com/notebooks/data_table.ipynb>data table notebook</a>'\n",
              "            + ' to learn more about interactive tables.';\n",
              "          element.innerHTML = '';\n",
              "          dataTable['output_type'] = 'display_data';\n",
              "          await google.colab.output.renderOutput(dataTable, element);\n",
              "          const docLink = document.createElement('div');\n",
              "          docLink.innerHTML = docLinkHtml;\n",
              "          element.appendChild(docLink);\n",
              "        }\n",
              "      </script>\n",
              "    </div>\n",
              "  </div>\n",
              "  "
            ]
          },
          "metadata": {},
          "execution_count": 810
        }
      ]
    },
    {
      "cell_type": "code",
      "source": [
        "X = df_norm.drop(columns=['LUNG_CANCER'])\n",
        "y = df_norm['LUNG_CANCER']"
      ],
      "metadata": {
        "id": "zXz58Y2IRO-M"
      },
      "execution_count": null,
      "outputs": []
    },
    {
      "cell_type": "markdown",
      "source": [
        "#Preprocessing"
      ],
      "metadata": {
        "id": "KxESUCziRPll"
      }
    },
    {
      "cell_type": "code",
      "source": [
        "#Mengecek apa ada missing value atau noise\n",
        "df_norm.isnull().sum()"
      ],
      "metadata": {
        "colab": {
          "base_uri": "https://localhost:8080/"
        },
        "id": "xX2g89lBRUPE",
        "outputId": "9cd85edc-8713-42dc-b408-1e0371b72833"
      },
      "execution_count": null,
      "outputs": [
        {
          "output_type": "execute_result",
          "data": {
            "text/plain": [
              "AGE                      0\n",
              "SMOKING                  0\n",
              "YELLOW_FINGERS           0\n",
              "ANXIETY                  0\n",
              "PEER_PRESSURE            0\n",
              "CHRONIC DISEASE          0\n",
              "FATIGUE                  0\n",
              "ALLERGY                  0\n",
              "WHEEZING                 0\n",
              "ALCOHOL CONSUMING        0\n",
              "COUGHING                 0\n",
              "SHORTNESS OF BREATH      0\n",
              "SWALLOWING DIFFICULTY    0\n",
              "CHEST PAIN               0\n",
              "LUNG_CANCER              0\n",
              "dtype: int64"
            ]
          },
          "metadata": {},
          "execution_count": 812
        }
      ]
    },
    {
      "cell_type": "code",
      "source": [
        "#Melihat tipe data yang digunakan dari masing-masing variabel pada dataset\n",
        "df_norm.info()"
      ],
      "metadata": {
        "colab": {
          "base_uri": "https://localhost:8080/"
        },
        "id": "nHZvjXaOdWYs",
        "outputId": "2b3aff81-cb02-44dd-ac0f-2bf455b391ec"
      },
      "execution_count": null,
      "outputs": [
        {
          "output_type": "stream",
          "name": "stdout",
          "text": [
            "<class 'pandas.core.frame.DataFrame'>\n",
            "RangeIndex: 309 entries, 0 to 308\n",
            "Data columns (total 15 columns):\n",
            " #   Column                 Non-Null Count  Dtype  \n",
            "---  ------                 --------------  -----  \n",
            " 0   AGE                    309 non-null    float64\n",
            " 1   SMOKING                309 non-null    float64\n",
            " 2   YELLOW_FINGERS         309 non-null    float64\n",
            " 3   ANXIETY                309 non-null    float64\n",
            " 4   PEER_PRESSURE          309 non-null    float64\n",
            " 5   CHRONIC DISEASE        309 non-null    float64\n",
            " 6   FATIGUE                309 non-null    float64\n",
            " 7   ALLERGY                309 non-null    float64\n",
            " 8   WHEEZING               309 non-null    float64\n",
            " 9   ALCOHOL CONSUMING      309 non-null    float64\n",
            " 10  COUGHING               309 non-null    float64\n",
            " 11  SHORTNESS OF BREATH    309 non-null    float64\n",
            " 12  SWALLOWING DIFFICULTY  309 non-null    float64\n",
            " 13  CHEST PAIN             309 non-null    float64\n",
            " 14  LUNG_CANCER            309 non-null    object \n",
            "dtypes: float64(14), object(1)\n",
            "memory usage: 36.3+ KB\n"
          ]
        }
      ]
    },
    {
      "cell_type": "markdown",
      "source": [
        "#Split Dataset"
      ],
      "metadata": {
        "id": "MIGNi5SRRd4G"
      }
    },
    {
      "cell_type": "markdown",
      "source": [
        "##Percentage Split"
      ],
      "metadata": {
        "id": "RtBVqA5zx1-d"
      }
    },
    {
      "cell_type": "code",
      "source": [
        "#Membagi dataset menjadi data training dan data testing\n",
        "X_train, X_test, y_train, y_test = train_test_split(X, y, test_size=0.2)\n",
        "\n",
        "#test_size=0.2 artinya 80% data training dan 20% data testing"
      ],
      "metadata": {
        "id": "XU1iBweoGAJl"
      },
      "execution_count": null,
      "outputs": []
    },
    {
      "cell_type": "code",
      "source": [
        "#Melihat ukuran X_train\n",
        "X_train.shape"
      ],
      "metadata": {
        "colab": {
          "base_uri": "https://localhost:8080/"
        },
        "id": "H0VHao3bRg4M",
        "outputId": "84b73e4f-dde4-4094-8d9f-5fb8066d8827"
      },
      "execution_count": null,
      "outputs": [
        {
          "output_type": "execute_result",
          "data": {
            "text/plain": [
              "(247, 14)"
            ]
          },
          "metadata": {},
          "execution_count": 815
        }
      ]
    },
    {
      "cell_type": "code",
      "source": [
        "#Melihat ukuran X_test\n",
        "X_test.shape"
      ],
      "metadata": {
        "colab": {
          "base_uri": "https://localhost:8080/"
        },
        "id": "15rAp1A6RkT0",
        "outputId": "33b5bcac-fef9-49d9-e56f-48da5917096c"
      },
      "execution_count": null,
      "outputs": [
        {
          "output_type": "execute_result",
          "data": {
            "text/plain": [
              "(62, 14)"
            ]
          },
          "metadata": {},
          "execution_count": 816
        }
      ]
    },
    {
      "cell_type": "code",
      "source": [
        "#Melihat ukuran y_train\n",
        "y_train.shape"
      ],
      "metadata": {
        "colab": {
          "base_uri": "https://localhost:8080/"
        },
        "id": "o6-ctG2VRpwM",
        "outputId": "2a1e78cf-b8f1-4dfc-9d06-d5baf7c843cd"
      },
      "execution_count": null,
      "outputs": [
        {
          "output_type": "execute_result",
          "data": {
            "text/plain": [
              "(247,)"
            ]
          },
          "metadata": {},
          "execution_count": 817
        }
      ]
    },
    {
      "cell_type": "code",
      "source": [
        "#Melihat ukuran y_test\n",
        "y_test.shape"
      ],
      "metadata": {
        "colab": {
          "base_uri": "https://localhost:8080/"
        },
        "id": "23sx_7pyRst0",
        "outputId": "9a820aa1-13d1-4d70-b8b9-6961bc2ce4bb"
      },
      "execution_count": null,
      "outputs": [
        {
          "output_type": "execute_result",
          "data": {
            "text/plain": [
              "(62,)"
            ]
          },
          "metadata": {},
          "execution_count": 818
        }
      ]
    },
    {
      "cell_type": "code",
      "source": [
        "X_train.shape, X_test.shape, y_train.shape, y_test.shape"
      ],
      "metadata": {
        "colab": {
          "base_uri": "https://localhost:8080/"
        },
        "id": "WufFAfBFRwfF",
        "outputId": "2a3f6f21-2355-4465-eef8-62c09d2e1d1d"
      },
      "execution_count": null,
      "outputs": [
        {
          "output_type": "execute_result",
          "data": {
            "text/plain": [
              "((247, 14), (62, 14), (247,), (62,))"
            ]
          },
          "metadata": {},
          "execution_count": 819
        }
      ]
    },
    {
      "cell_type": "markdown",
      "source": [
        "# Model & Prediction (SVM)"
      ],
      "metadata": {
        "id": "LoAHiuY7eAy9"
      }
    },
    {
      "cell_type": "markdown",
      "source": [
        "##Percentage Split"
      ],
      "metadata": {
        "id": "6gFGgsZlz0Ft"
      }
    },
    {
      "cell_type": "code",
      "source": [
        "#Import Library\n",
        "from sklearn.svm import SVC"
      ],
      "metadata": {
        "id": "lQTAHeDs2N20"
      },
      "execution_count": null,
      "outputs": []
    },
    {
      "cell_type": "code",
      "source": [
        "#Aktivasi fungsi classifier SVM\n",
        "svm = SVC(kernel='poly')"
      ],
      "metadata": {
        "id": "kzJdGZh_U1Fn"
      },
      "execution_count": null,
      "outputs": []
    },
    {
      "cell_type": "code",
      "source": [
        "#Memasukkan data training pada fungsi klasifikasi SVM\n",
        "svm.fit(X_train, y_train)"
      ],
      "metadata": {
        "colab": {
          "base_uri": "https://localhost:8080/"
        },
        "id": "fPcxvHMPU9v0",
        "outputId": "fe70bda1-71f2-40f1-d550-bd1453bda239"
      },
      "execution_count": null,
      "outputs": [
        {
          "output_type": "execute_result",
          "data": {
            "text/plain": [
              "SVC(kernel='poly')"
            ]
          },
          "metadata": {},
          "execution_count": 822
        }
      ]
    },
    {
      "cell_type": "code",
      "source": [
        "#Menentukan prediksi\n",
        "y_predictsvm = svm.predict(X_test)\n",
        "y_predictsvm"
      ],
      "metadata": {
        "colab": {
          "base_uri": "https://localhost:8080/"
        },
        "id": "t34MAZfyVX6O",
        "outputId": "33e603d8-aab7-4875-931e-0e90b8d51e6d"
      },
      "execution_count": null,
      "outputs": [
        {
          "output_type": "execute_result",
          "data": {
            "text/plain": [
              "array(['YES', 'YES', 'YES', 'YES', 'YES', 'YES', 'YES', 'YES', 'YES',\n",
              "       'YES', 'YES', 'YES', 'YES', 'YES', 'YES', 'YES', 'YES', 'YES',\n",
              "       'NO', 'YES', 'YES', 'YES', 'YES', 'YES', 'YES', 'YES', 'NO', 'YES',\n",
              "       'YES', 'YES', 'YES', 'YES', 'YES', 'YES', 'YES', 'YES', 'YES',\n",
              "       'YES', 'YES', 'YES', 'YES', 'YES', 'YES', 'YES', 'YES', 'YES',\n",
              "       'YES', 'YES', 'YES', 'NO', 'YES', 'YES', 'YES', 'YES', 'YES',\n",
              "       'YES', 'YES', 'YES', 'YES', 'NO', 'YES', 'NO'], dtype=object)"
            ]
          },
          "metadata": {},
          "execution_count": 823
        }
      ]
    },
    {
      "cell_type": "code",
      "source": [
        "y_test"
      ],
      "metadata": {
        "id": "x3uHevEi3fq4",
        "outputId": "b5b4fe66-b615-4472-b21b-fc87e5b85c7f",
        "colab": {
          "base_uri": "https://localhost:8080/"
        }
      },
      "execution_count": null,
      "outputs": [
        {
          "output_type": "execute_result",
          "data": {
            "text/plain": [
              "118    YES\n",
              "250    YES\n",
              "258    YES\n",
              "56     YES\n",
              "232    YES\n",
              "      ... \n",
              "280     NO\n",
              "36     YES\n",
              "266     NO\n",
              "225    YES\n",
              "215     NO\n",
              "Name: LUNG_CANCER, Length: 62, dtype: object"
            ]
          },
          "metadata": {},
          "execution_count": 824
        }
      ]
    },
    {
      "cell_type": "markdown",
      "source": [
        "##K-Fold Cross Validation"
      ],
      "metadata": {
        "id": "6AV4hq-Vw1tQ"
      }
    },
    {
      "cell_type": "code",
      "source": [
        "svm2 = SVC(kernel='poly')"
      ],
      "metadata": {
        "id": "KiHWKdDAw49V"
      },
      "execution_count": null,
      "outputs": []
    },
    {
      "cell_type": "code",
      "source": [
        "svmscore = cross_val_score(svm2, X, y, scoring='accuracy', cv=10)"
      ],
      "metadata": {
        "id": "32PKBPNdz6AN"
      },
      "execution_count": null,
      "outputs": []
    },
    {
      "cell_type": "code",
      "source": [
        "svmscore"
      ],
      "metadata": {
        "colab": {
          "base_uri": "https://localhost:8080/"
        },
        "id": "KU-Q63i807Cm",
        "outputId": "a4a5221f-4c2a-438a-d767-4ec61f20d267"
      },
      "execution_count": null,
      "outputs": [
        {
          "output_type": "execute_result",
          "data": {
            "text/plain": [
              "array([0.87096774, 0.93548387, 0.87096774, 0.83870968, 0.90322581,\n",
              "       1.        , 0.83870968, 0.93548387, 0.93548387, 0.93333333])"
            ]
          },
          "metadata": {},
          "execution_count": 855
        }
      ]
    },
    {
      "cell_type": "code",
      "source": [
        "y_predictsvm2 = cross_val_predict(svm2, X, y, cv=10)"
      ],
      "metadata": {
        "id": "IysEWRuqy34T"
      },
      "execution_count": null,
      "outputs": []
    },
    {
      "cell_type": "code",
      "source": [
        "y_predictsvm2"
      ],
      "metadata": {
        "colab": {
          "base_uri": "https://localhost:8080/"
        },
        "id": "p5CwSQpX1IJs",
        "outputId": "b3c5ac19-46eb-4951-8641-9e856562e06c"
      },
      "execution_count": null,
      "outputs": [
        {
          "output_type": "execute_result",
          "data": {
            "text/plain": [
              "array(['YES', 'YES', 'YES', 'YES', 'NO', 'YES', 'YES', 'YES', 'NO', 'YES',\n",
              "       'YES', 'YES', 'NO', 'YES', 'YES', 'YES', 'YES', 'YES', 'YES', 'NO',\n",
              "       'YES', 'YES', 'YES', 'YES', 'YES', 'YES', 'YES', 'YES', 'YES',\n",
              "       'YES', 'NO', 'YES', 'NO', 'YES', 'NO', 'YES', 'NO', 'YES', 'NO',\n",
              "       'YES', 'YES', 'YES', 'YES', 'YES', 'YES', 'YES', 'YES', 'YES',\n",
              "       'YES', 'NO', 'YES', 'YES', 'YES', 'YES', 'YES', 'YES', 'YES',\n",
              "       'YES', 'YES', 'YES', 'YES', 'NO', 'YES', 'YES', 'YES', 'YES',\n",
              "       'YES', 'YES', 'YES', 'YES', 'YES', 'YES', 'YES', 'NO', 'YES',\n",
              "       'YES', 'YES', 'YES', 'YES', 'YES', 'NO', 'YES', 'YES', 'YES',\n",
              "       'YES', 'YES', 'YES', 'YES', 'YES', 'YES', 'YES', 'YES', 'YES',\n",
              "       'YES', 'YES', 'YES', 'YES', 'NO', 'YES', 'YES', 'YES', 'YES',\n",
              "       'YES', 'YES', 'YES', 'NO', 'YES', 'YES', 'YES', 'YES', 'YES',\n",
              "       'YES', 'NO', 'NO', 'YES', 'YES', 'YES', 'YES', 'YES', 'YES', 'YES',\n",
              "       'YES', 'NO', 'YES', 'YES', 'YES', 'YES', 'YES', 'YES', 'NO', 'YES',\n",
              "       'YES', 'NO', 'YES', 'YES', 'YES', 'YES', 'NO', 'YES', 'YES', 'YES',\n",
              "       'YES', 'YES', 'YES', 'YES', 'YES', 'YES', 'YES', 'YES', 'YES',\n",
              "       'YES', 'YES', 'YES', 'NO', 'YES', 'YES', 'NO', 'NO', 'YES', 'NO',\n",
              "       'YES', 'YES', 'YES', 'YES', 'YES', 'YES', 'YES', 'YES', 'YES',\n",
              "       'YES', 'YES', 'NO', 'YES', 'YES', 'YES', 'YES', 'YES', 'YES',\n",
              "       'YES', 'YES', 'YES', 'YES', 'YES', 'YES', 'YES', 'YES', 'YES',\n",
              "       'NO', 'YES', 'YES', 'NO', 'YES', 'NO', 'NO', 'YES', 'YES', 'YES',\n",
              "       'YES', 'YES', 'YES', 'YES', 'YES', 'YES', 'YES', 'YES', 'YES',\n",
              "       'YES', 'NO', 'YES', 'YES', 'YES', 'YES', 'YES', 'YES', 'YES', 'NO',\n",
              "       'YES', 'YES', 'YES', 'YES', 'YES', 'NO', 'YES', 'YES', 'YES',\n",
              "       'YES', 'YES', 'YES', 'YES', 'YES', 'YES', 'YES', 'YES', 'NO',\n",
              "       'YES', 'YES', 'YES', 'YES', 'YES', 'YES', 'YES', 'YES', 'YES',\n",
              "       'YES', 'YES', 'YES', 'YES', 'YES', 'YES', 'NO', 'YES', 'YES',\n",
              "       'YES', 'YES', 'YES', 'YES', 'YES', 'YES', 'YES', 'YES', 'YES',\n",
              "       'YES', 'NO', 'YES', 'YES', 'YES', 'NO', 'YES', 'YES', 'YES', 'NO',\n",
              "       'YES', 'YES', 'YES', 'YES', 'YES', 'YES', 'NO', 'YES', 'YES',\n",
              "       'YES', 'NO', 'NO', 'YES', 'YES', 'YES', 'NO', 'YES', 'YES', 'NO',\n",
              "       'YES', 'YES', 'YES', 'YES', 'NO', 'YES', 'YES', 'YES', 'YES',\n",
              "       'YES', 'YES', 'YES', 'YES', 'YES', 'YES', 'YES', 'YES', 'YES',\n",
              "       'YES'], dtype=object)"
            ]
          },
          "metadata": {},
          "execution_count": 857
        }
      ]
    },
    {
      "cell_type": "markdown",
      "source": [
        "#Evaluation (SVM)"
      ],
      "metadata": {
        "id": "IYBvBuoHwhVk"
      }
    },
    {
      "cell_type": "markdown",
      "source": [
        "##Percentage Split"
      ],
      "metadata": {
        "id": "vSDv4QsAxcGw"
      }
    },
    {
      "cell_type": "code",
      "source": [
        "#Menghitung akurasi model SVM\n",
        "print(accuracy_score(y_test, y_predictsvm))"
      ],
      "metadata": {
        "colab": {
          "base_uri": "https://localhost:8080/"
        },
        "id": "GKK8QJRZUeOt",
        "outputId": "c4e6a9b1-d162-4ef2-8e8a-0bcb733355d4"
      },
      "execution_count": null,
      "outputs": [
        {
          "output_type": "stream",
          "name": "stdout",
          "text": [
            "0.9516129032258065\n"
          ]
        }
      ]
    },
    {
      "cell_type": "code",
      "source": [
        "#Membuat confusion matrix\n",
        "confusion_matrix(y_test, y_predictsvm)"
      ],
      "metadata": {
        "colab": {
          "base_uri": "https://localhost:8080/"
        },
        "id": "w3BJ6wkDIfyA",
        "outputId": "b02c6738-1461-4786-94af-e3da1fe5f1d1"
      },
      "execution_count": null,
      "outputs": [
        {
          "output_type": "execute_result",
          "data": {
            "text/plain": [
              "array([[ 4,  2],\n",
              "       [ 1, 55]])"
            ]
          },
          "metadata": {},
          "execution_count": 859
        }
      ]
    },
    {
      "cell_type": "code",
      "source": [
        "#Membuat classification report\n",
        "print(classification_report(y_test, y_predictsvm))"
      ],
      "metadata": {
        "colab": {
          "base_uri": "https://localhost:8080/"
        },
        "id": "i599imG7GkfR",
        "outputId": "59818066-6dec-4bce-ce00-9e4b93f0497c"
      },
      "execution_count": null,
      "outputs": [
        {
          "output_type": "stream",
          "name": "stdout",
          "text": [
            "              precision    recall  f1-score   support\n",
            "\n",
            "          NO       0.80      0.67      0.73         6\n",
            "         YES       0.96      0.98      0.97        56\n",
            "\n",
            "    accuracy                           0.95        62\n",
            "   macro avg       0.88      0.82      0.85        62\n",
            "weighted avg       0.95      0.95      0.95        62\n",
            "\n"
          ]
        }
      ]
    },
    {
      "cell_type": "markdown",
      "source": [
        "##K-Fold Cross Validation"
      ],
      "metadata": {
        "id": "s1zVZnw-z3qM"
      }
    },
    {
      "cell_type": "code",
      "source": [
        "#Menghitung akurasi model SVM\n",
        "print(accuracy_score(y, y_predictsvm2))"
      ],
      "metadata": {
        "colab": {
          "base_uri": "https://localhost:8080/"
        },
        "id": "Ru-cCYgRx4iq",
        "outputId": "1994231f-6ffd-48d9-8e89-da335a156d63"
      },
      "execution_count": null,
      "outputs": [
        {
          "output_type": "stream",
          "name": "stdout",
          "text": [
            "0.9061488673139159\n"
          ]
        }
      ]
    },
    {
      "cell_type": "code",
      "source": [
        "#Membuat confusion matrix\n",
        "confusion_matrix(y, y_predictsvm2)"
      ],
      "metadata": {
        "colab": {
          "base_uri": "https://localhost:8080/"
        },
        "id": "u2Pt6PYbx0sT",
        "outputId": "31eef0d7-0050-4859-d981-fd4a5224a87b"
      },
      "execution_count": null,
      "outputs": [
        {
          "output_type": "execute_result",
          "data": {
            "text/plain": [
              "array([[ 27,  12],\n",
              "       [ 17, 253]])"
            ]
          },
          "metadata": {},
          "execution_count": 862
        }
      ]
    },
    {
      "cell_type": "code",
      "source": [
        "print(classification_report(y, y_predictsvm2))"
      ],
      "metadata": {
        "colab": {
          "base_uri": "https://localhost:8080/"
        },
        "id": "SD4ltexS1O5x",
        "outputId": "fc9e5cb8-d986-438e-a9f4-f27a328d996c"
      },
      "execution_count": null,
      "outputs": [
        {
          "output_type": "stream",
          "name": "stdout",
          "text": [
            "              precision    recall  f1-score   support\n",
            "\n",
            "          NO       0.61      0.69      0.65        39\n",
            "         YES       0.95      0.94      0.95       270\n",
            "\n",
            "    accuracy                           0.91       309\n",
            "   macro avg       0.78      0.81      0.80       309\n",
            "weighted avg       0.91      0.91      0.91       309\n",
            "\n"
          ]
        }
      ]
    },
    {
      "cell_type": "markdown",
      "source": [
        "#Model & Prediction (KNN)"
      ],
      "metadata": {
        "id": "gMUvvs_7drpM"
      }
    },
    {
      "cell_type": "markdown",
      "source": [
        "##Percentage Split"
      ],
      "metadata": {
        "id": "EyCtlPIC1iVV"
      }
    },
    {
      "cell_type": "code",
      "source": [
        "#Import KNN\n",
        "from sklearn.neighbors import KNeighborsClassifier"
      ],
      "metadata": {
        "id": "SsA9vbPTK2u2"
      },
      "execution_count": null,
      "outputs": []
    },
    {
      "cell_type": "code",
      "source": [
        "#Aktivasi fungsi classifier KNN\n",
        "knn = KNeighborsClassifier(n_neighbors=3)"
      ],
      "metadata": {
        "id": "G8RdfIc_RsSD"
      },
      "execution_count": null,
      "outputs": []
    },
    {
      "cell_type": "code",
      "source": [
        "#Memasukkan data training pada fungsi klasifikasi KNN\n",
        "knn.fit(X_train, y_train)"
      ],
      "metadata": {
        "colab": {
          "base_uri": "https://localhost:8080/"
        },
        "id": "SL-F6GJvRzzM",
        "outputId": "6790d315-427b-4273-fb42-3bd65ca38c98"
      },
      "execution_count": null,
      "outputs": [
        {
          "output_type": "execute_result",
          "data": {
            "text/plain": [
              "KNeighborsClassifier(n_neighbors=3)"
            ]
          },
          "metadata": {},
          "execution_count": 866
        }
      ]
    },
    {
      "cell_type": "code",
      "source": [
        "#Menentukan prediksi\n",
        "y_predictknn = knn.predict(X_test)\n",
        "y_predictknn"
      ],
      "metadata": {
        "colab": {
          "base_uri": "https://localhost:8080/"
        },
        "id": "ZJncy12rR7Hh",
        "outputId": "5437157a-2e30-4ee2-f776-d2cf2dbf4db4"
      },
      "execution_count": null,
      "outputs": [
        {
          "output_type": "execute_result",
          "data": {
            "text/plain": [
              "array(['YES', 'YES', 'YES', 'YES', 'YES', 'YES', 'YES', 'YES', 'YES',\n",
              "       'YES', 'YES', 'YES', 'YES', 'YES', 'YES', 'NO', 'YES', 'YES',\n",
              "       'YES', 'YES', 'YES', 'YES', 'YES', 'YES', 'YES', 'YES', 'YES',\n",
              "       'YES', 'YES', 'YES', 'YES', 'YES', 'YES', 'YES', 'YES', 'YES',\n",
              "       'YES', 'YES', 'YES', 'YES', 'YES', 'YES', 'YES', 'YES', 'YES',\n",
              "       'YES', 'YES', 'YES', 'YES', 'NO', 'YES', 'YES', 'YES', 'YES',\n",
              "       'YES', 'YES', 'YES', 'YES', 'NO', 'NO', 'YES', 'NO'], dtype=object)"
            ]
          },
          "metadata": {},
          "execution_count": 867
        }
      ]
    },
    {
      "cell_type": "markdown",
      "source": [
        "##K-Fold Cross Validation"
      ],
      "metadata": {
        "id": "uf3Ml42b0UEB"
      }
    },
    {
      "cell_type": "code",
      "source": [
        "knn2 = KNeighborsClassifier(n_neighbors=3)"
      ],
      "metadata": {
        "id": "HFwOW5Fy1ESn"
      },
      "execution_count": null,
      "outputs": []
    },
    {
      "cell_type": "code",
      "source": [
        "knnscore = cross_val_score(knn2, X, y, scoring='accuracy', cv=10)"
      ],
      "metadata": {
        "id": "4IfHz2XQ1ESt"
      },
      "execution_count": null,
      "outputs": []
    },
    {
      "cell_type": "code",
      "source": [
        "knnscore"
      ],
      "metadata": {
        "colab": {
          "base_uri": "https://localhost:8080/"
        },
        "outputId": "8344def8-c026-4de3-b9a9-c03bdb863ae3",
        "id": "jtgAWIN91ESw"
      },
      "execution_count": null,
      "outputs": [
        {
          "output_type": "execute_result",
          "data": {
            "text/plain": [
              "array([0.90322581, 0.93548387, 0.87096774, 0.87096774, 0.93548387,\n",
              "       0.96774194, 0.87096774, 0.83870968, 0.93548387, 0.93333333])"
            ]
          },
          "metadata": {},
          "execution_count": 870
        }
      ]
    },
    {
      "cell_type": "code",
      "source": [
        "y_predictknn2 = cross_val_predict(knn2, X, y, cv=10)"
      ],
      "metadata": {
        "id": "xOFk2ygd1ESz"
      },
      "execution_count": null,
      "outputs": []
    },
    {
      "cell_type": "code",
      "source": [
        "y_predictknn2"
      ],
      "metadata": {
        "colab": {
          "base_uri": "https://localhost:8080/"
        },
        "outputId": "ec744652-d056-40e6-d629-9f2fa97014de",
        "id": "cAh145se1ES1"
      },
      "execution_count": null,
      "outputs": [
        {
          "output_type": "execute_result",
          "data": {
            "text/plain": [
              "array(['YES', 'YES', 'YES', 'YES', 'YES', 'YES', 'YES', 'YES', 'NO',\n",
              "       'YES', 'YES', 'YES', 'NO', 'YES', 'YES', 'YES', 'YES', 'YES',\n",
              "       'YES', 'NO', 'YES', 'YES', 'YES', 'YES', 'YES', 'YES', 'YES',\n",
              "       'YES', 'YES', 'YES', 'NO', 'YES', 'YES', 'YES', 'YES', 'YES',\n",
              "       'YES', 'NO', 'YES', 'YES', 'YES', 'YES', 'YES', 'YES', 'YES',\n",
              "       'YES', 'YES', 'YES', 'YES', 'NO', 'YES', 'YES', 'YES', 'YES',\n",
              "       'YES', 'YES', 'YES', 'YES', 'YES', 'YES', 'YES', 'NO', 'YES',\n",
              "       'YES', 'YES', 'YES', 'YES', 'YES', 'YES', 'YES', 'YES', 'YES',\n",
              "       'YES', 'NO', 'YES', 'YES', 'YES', 'YES', 'YES', 'YES', 'NO', 'YES',\n",
              "       'YES', 'YES', 'YES', 'YES', 'YES', 'YES', 'YES', 'YES', 'YES',\n",
              "       'YES', 'YES', 'YES', 'YES', 'YES', 'YES', 'YES', 'YES', 'YES',\n",
              "       'YES', 'YES', 'YES', 'YES', 'YES', 'NO', 'YES', 'YES', 'YES',\n",
              "       'YES', 'YES', 'YES', 'YES', 'YES', 'YES', 'YES', 'YES', 'YES',\n",
              "       'YES', 'YES', 'YES', 'YES', 'NO', 'YES', 'NO', 'YES', 'YES', 'YES',\n",
              "       'YES', 'NO', 'YES', 'YES', 'NO', 'YES', 'YES', 'YES', 'YES', 'YES',\n",
              "       'YES', 'YES', 'YES', 'YES', 'YES', 'YES', 'YES', 'YES', 'YES',\n",
              "       'YES', 'YES', 'YES', 'YES', 'YES', 'YES', 'NO', 'YES', 'YES',\n",
              "       'YES', 'NO', 'YES', 'NO', 'YES', 'YES', 'YES', 'YES', 'YES', 'YES',\n",
              "       'YES', 'YES', 'YES', 'YES', 'YES', 'NO', 'YES', 'YES', 'YES',\n",
              "       'YES', 'YES', 'YES', 'YES', 'YES', 'YES', 'YES', 'YES', 'NO',\n",
              "       'YES', 'YES', 'YES', 'NO', 'YES', 'NO', 'NO', 'YES', 'YES', 'NO',\n",
              "       'YES', 'YES', 'YES', 'YES', 'YES', 'YES', 'YES', 'YES', 'YES',\n",
              "       'YES', 'YES', 'YES', 'YES', 'NO', 'YES', 'YES', 'YES', 'YES',\n",
              "       'YES', 'YES', 'YES', 'NO', 'YES', 'YES', 'YES', 'YES', 'YES', 'NO',\n",
              "       'YES', 'YES', 'YES', 'YES', 'YES', 'YES', 'YES', 'YES', 'YES',\n",
              "       'YES', 'YES', 'NO', 'YES', 'YES', 'YES', 'YES', 'YES', 'YES',\n",
              "       'YES', 'YES', 'YES', 'YES', 'YES', 'YES', 'YES', 'YES', 'YES',\n",
              "       'YES', 'YES', 'YES', 'YES', 'YES', 'YES', 'YES', 'YES', 'YES',\n",
              "       'YES', 'YES', 'YES', 'YES', 'YES', 'YES', 'YES', 'YES', 'YES',\n",
              "       'YES', 'YES', 'YES', 'NO', 'YES', 'YES', 'YES', 'YES', 'YES',\n",
              "       'YES', 'NO', 'YES', 'YES', 'YES', 'NO', 'YES', 'YES', 'YES', 'YES',\n",
              "       'NO', 'YES', 'YES', 'NO', 'YES', 'YES', 'YES', 'YES', 'YES', 'YES',\n",
              "       'YES', 'YES', 'YES', 'YES', 'YES', 'YES', 'YES', 'YES', 'YES',\n",
              "       'YES', 'YES', 'YES', 'YES'], dtype=object)"
            ]
          },
          "metadata": {},
          "execution_count": 872
        }
      ]
    },
    {
      "cell_type": "markdown",
      "source": [
        "#Evaluation (KNN)"
      ],
      "metadata": {
        "id": "IXS_SDlo0X2X"
      }
    },
    {
      "cell_type": "markdown",
      "source": [
        "##Percentage Split"
      ],
      "metadata": {
        "id": "b6-lptM20Z7D"
      }
    },
    {
      "cell_type": "code",
      "source": [
        "#Menghitung akurasi model KNN\n",
        "print(accuracy_score(y_test, y_predictknn))"
      ],
      "metadata": {
        "colab": {
          "base_uri": "https://localhost:8080/"
        },
        "id": "25ID0E18UJQf",
        "outputId": "6f94e044-4d53-4e11-9e5f-a3994dbc0f8c"
      },
      "execution_count": null,
      "outputs": [
        {
          "output_type": "stream",
          "name": "stdout",
          "text": [
            "0.9193548387096774\n"
          ]
        }
      ]
    },
    {
      "cell_type": "code",
      "source": [
        "#Confusion Matrix\n",
        "print(confusion_matrix(y_test, y_predictknn))"
      ],
      "metadata": {
        "id": "o5j71AtNSQ0y",
        "colab": {
          "base_uri": "https://localhost:8080/"
        },
        "outputId": "6835ea9a-f562-40ce-ed20-47d77202db84"
      },
      "execution_count": null,
      "outputs": [
        {
          "output_type": "stream",
          "name": "stdout",
          "text": [
            "[[ 3  3]\n",
            " [ 2 54]]\n"
          ]
        }
      ]
    },
    {
      "cell_type": "code",
      "source": [
        "#Classification report\n",
        "print(classification_report(y_test, y_predictknn))"
      ],
      "metadata": {
        "colab": {
          "base_uri": "https://localhost:8080/"
        },
        "id": "ZLUAr2L1TEAx",
        "outputId": "55f708b2-a2af-439e-cf41-415363d6daea"
      },
      "execution_count": null,
      "outputs": [
        {
          "output_type": "stream",
          "name": "stdout",
          "text": [
            "              precision    recall  f1-score   support\n",
            "\n",
            "          NO       0.60      0.50      0.55         6\n",
            "         YES       0.95      0.96      0.96        56\n",
            "\n",
            "    accuracy                           0.92        62\n",
            "   macro avg       0.77      0.73      0.75        62\n",
            "weighted avg       0.91      0.92      0.92        62\n",
            "\n"
          ]
        }
      ]
    },
    {
      "cell_type": "markdown",
      "source": [
        "##K-Fold Cross Validation"
      ],
      "metadata": {
        "id": "EI-ssZIO4NMQ"
      }
    },
    {
      "cell_type": "code",
      "source": [
        "#Menghitung akurasi model SVM\n",
        "print(accuracy_score(y, y_predictknn2))"
      ],
      "metadata": {
        "colab": {
          "base_uri": "https://localhost:8080/"
        },
        "outputId": "c5fbd5ec-7a84-4ec9-82de-f3884b787939",
        "id": "ab2Oeabg4MGl"
      },
      "execution_count": null,
      "outputs": [
        {
          "output_type": "stream",
          "name": "stdout",
          "text": [
            "0.9061488673139159\n"
          ]
        }
      ]
    },
    {
      "cell_type": "code",
      "source": [
        "#Membuat confusion matrix\n",
        "confusion_matrix(y, y_predictknn2)"
      ],
      "metadata": {
        "colab": {
          "base_uri": "https://localhost:8080/"
        },
        "outputId": "2a8a4b3c-8e22-43c9-9366-718aa2bf3a94",
        "id": "nFYo8vVV4MGq"
      },
      "execution_count": null,
      "outputs": [
        {
          "output_type": "execute_result",
          "data": {
            "text/plain": [
              "array([[ 21,  18],\n",
              "       [ 11, 259]])"
            ]
          },
          "metadata": {},
          "execution_count": 877
        }
      ]
    },
    {
      "cell_type": "code",
      "source": [
        "print(classification_report(y, y_predictknn2))"
      ],
      "metadata": {
        "colab": {
          "base_uri": "https://localhost:8080/"
        },
        "outputId": "9dee1653-a957-4b81-e219-28d599183ffe",
        "id": "pVj0_7fU4MGv"
      },
      "execution_count": null,
      "outputs": [
        {
          "output_type": "stream",
          "name": "stdout",
          "text": [
            "              precision    recall  f1-score   support\n",
            "\n",
            "          NO       0.66      0.54      0.59        39\n",
            "         YES       0.94      0.96      0.95       270\n",
            "\n",
            "    accuracy                           0.91       309\n",
            "   macro avg       0.80      0.75      0.77       309\n",
            "weighted avg       0.90      0.91      0.90       309\n",
            "\n"
          ]
        }
      ]
    },
    {
      "cell_type": "markdown",
      "source": [
        "#Kesimpulan"
      ],
      "metadata": {
        "id": "4NG9liP-R_Kj"
      }
    },
    {
      "cell_type": "code",
      "source": [
        "#Percentage Split\n",
        "print(f'Tingkat akurasi SVM: {(accuracy_score(y_test, y_predictsvm)) * 100}%')\n",
        "print(f'Tingkat akurasi KNN: {(accuracy_score(y_test, y_predictknn)) * 100}%')"
      ],
      "metadata": {
        "colab": {
          "base_uri": "https://localhost:8080/"
        },
        "id": "wxVA0CXeWNtM",
        "outputId": "c3d712d0-b253-44f3-837c-2cb63b892581"
      },
      "execution_count": null,
      "outputs": [
        {
          "output_type": "stream",
          "name": "stdout",
          "text": [
            "Tingkat akurasi SVM: 95.16129032258065%\n",
            "Tingkat akurasi KNN: 91.93548387096774%\n"
          ]
        }
      ]
    },
    {
      "cell_type": "code",
      "source": [
        "#K-Fold Cross Validation\n",
        "print(f'Tingkat akurasi SVM: {(accuracy_score(y, y_predictsvm2)) * 100}%')\n",
        "print(f'Tingkat akurasi KNN: {(accuracy_score(y, y_predictknn2)) * 100}%')"
      ],
      "metadata": {
        "colab": {
          "base_uri": "https://localhost:8080/"
        },
        "id": "054HZd8M4tY1",
        "outputId": "4fa27a09-e44f-4d80-91bc-b0fa2521515e"
      },
      "execution_count": null,
      "outputs": [
        {
          "output_type": "stream",
          "name": "stdout",
          "text": [
            "Tingkat akurasi SVM: 90.61488673139159%\n",
            "Tingkat akurasi KNN: 90.61488673139159%\n"
          ]
        }
      ]
    }
  ]
}